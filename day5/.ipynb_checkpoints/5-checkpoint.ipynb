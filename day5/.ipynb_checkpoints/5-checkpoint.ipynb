{
 "cells": [
  {
   "cell_type": "code",
   "execution_count": null,
   "id": "d1b24d55",
   "metadata": {},
   "outputs": [],
   "source": [
    "functions"
   ]
  },
  {
   "cell_type": "code",
   "execution_count": 1,
   "id": "4f0b45b3",
   "metadata": {},
   "outputs": [
    {
     "name": "stdin",
     "output_type": "stream",
     "text": [
      "Enter the number 1\n",
      "Enter another number 2\n"
     ]
    },
    {
     "name": "stdout",
     "output_type": "stream",
     "text": [
      "3\n"
     ]
    }
   ],
   "source": [
    "def add():\n",
    "    a = input('Enter the number')\n",
    "    b = input('Enter another number')\n",
    "    print(int(a)+int(b))\n",
    "add()\n"
   ]
  },
  {
   "cell_type": "code",
   "execution_count": 9,
   "id": "d36457fd",
   "metadata": {},
   "outputs": [
    {
     "name": "stdout",
     "output_type": "stream",
     "text": [
      "Enter the number1\n",
      "Enter another number2\n",
      "3\n"
     ]
    }
   ],
   "source": [
    "def add():\n",
    "    a = input('Enter the number')\n",
    "    b = input('Enter another number')\n",
    "    return(int(a)+int(b))\n",
    "\n",
    "sum = add()\n",
    "print(sum)"
   ]
  },
  {
   "cell_type": "code",
   "execution_count": null,
   "id": "e47d85aa",
   "metadata": {},
   "outputs": [],
   "source": [
    "required arguements\n",
    "default args\n",
    "keyword args\n",
    "variable length args"
   ]
  },
  {
   "cell_type": "code",
   "execution_count": 10,
   "id": "5b94073d",
   "metadata": {},
   "outputs": [
    {
     "name": "stdout",
     "output_type": "stream",
     "text": [
      "1\n",
      "2\n"
     ]
    }
   ],
   "source": [
    "def fun(x,y):\n",
    "    print(x)\n",
    "    print(y)\n",
    "    \n",
    "fun(1,2)"
   ]
  },
  {
   "cell_type": "code",
   "execution_count": 13,
   "id": "5866e1c6",
   "metadata": {},
   "outputs": [
    {
     "name": "stdout",
     "output_type": "stream",
     "text": [
      "1\n",
      "4\n",
      "6\n",
      "5\n",
      "4\n",
      "6\n"
     ]
    }
   ],
   "source": [
    "def fun(x=1,y=4,z=6):\n",
    "    print(x)\n",
    "    print(y)\n",
    "    print(z)\n",
    "\n",
    "fun()\n",
    "fun(x=5)"
   ]
  },
  {
   "cell_type": "code",
   "execution_count": 17,
   "id": "57c87c14",
   "metadata": {},
   "outputs": [
    {
     "name": "stdout",
     "output_type": "stream",
     "text": [
      "3\n",
      "4\n",
      "4\n"
     ]
    }
   ],
   "source": [
    "def func(x=3,y=4,z=5):  #formal param\n",
    "    print(x)\n",
    "    print(y)\n",
    "    print(z)\n",
    "    \n",
    "\n",
    "func(z=4) #actual params"
   ]
  },
  {
   "cell_type": "code",
   "execution_count": 18,
   "id": "c71a6aca",
   "metadata": {},
   "outputs": [
    {
     "name": "stdout",
     "output_type": "stream",
     "text": [
      "(2, 3, 4, 5, 6)\n"
     ]
    }
   ],
   "source": [
    "def fun2(*y):\n",
    "    print(y)\n",
    "    \n",
    "fun2(2,3,4,5,6)    #returns tuple"
   ]
  },
  {
   "cell_type": "code",
   "execution_count": 19,
   "id": "dff6ceda",
   "metadata": {},
   "outputs": [
    {
     "name": "stdout",
     "output_type": "stream",
     "text": [
      "{'a': 1, 'b': 3}\n"
     ]
    }
   ],
   "source": [
    "def fun2(**y):\n",
    "    print(y)\n",
    "    \n",
    "fun2(a=1,b=3)       #returns dict"
   ]
  },
  {
   "cell_type": "code",
   "execution_count": null,
   "id": "0e07c274",
   "metadata": {},
   "outputs": [],
   "source": [
    "program to sum all no in list using functions\n",
    "program to calc factorial of a number using function"
   ]
  },
  {
   "cell_type": "code",
   "execution_count": 27,
   "id": "4c81acc2",
   "metadata": {},
   "outputs": [
    {
     "name": "stdout",
     "output_type": "stream",
     "text": [
      "28\n"
     ]
    }
   ],
   "source": [
    "\n",
    "def add():\n",
    "    li = [1,2,3,4,5,6,7]\n",
    "    sum=0\n",
    "    for i in li:\n",
    "        sum=sum+i\n",
    "    print(sum)\n",
    "add()"
   ]
  },
  {
   "cell_type": "code",
   "execution_count": 33,
   "id": "4ff2dd42",
   "metadata": {},
   "outputs": [
    {
     "name": "stdout",
     "output_type": "stream",
     "text": [
      "Enter the number4\n",
      "24\n"
     ]
    }
   ],
   "source": [
    "def fact(x):\n",
    "    facto = 1\n",
    "    for i in range(1,x+1):\n",
    "        facto*=i\n",
    "    return facto\n",
    "a = int(input('Enter the number'))\n",
    "factorial = fact(a)\n",
    "print(factorial)\n",
    "    "
   ]
  },
  {
   "cell_type": "code",
   "execution_count": 5,
   "id": "540e6ba3",
   "metadata": {},
   "outputs": [
    {
     "name": "stdout",
     "output_type": "stream",
     "text": [
      "Game has started\n",
      "Enter the command start\n",
      "Car has started\n",
      "Enter the command stop\n",
      "Car has stopped\n",
      "Enter the command quit\n",
      "You quit the game\n"
     ]
    }
   ],
   "source": [
    "print('Game has started')\n",
    "\n",
    "while(1):\n",
    "    command = input('Enter the command ')\n",
    "    if(command=='start'):\n",
    "        print('Car has started')\n",
    "    elif(command=='stop'):\n",
    "        print('Car has stopped')\n",
    "    elif(command=='help'):\n",
    "        print('start to start the car and enter stop to stop the car')\n",
    "    elif(command=='quit'):\n",
    "        print('You quit the game')\n",
    "        break\n",
    "    else:\n",
    "        print('Invalid Input')\n",
    "    "
   ]
  },
  {
   "cell_type": "code",
   "execution_count": 26,
   "id": "ed0b7213",
   "metadata": {},
   "outputs": [],
   "source": [
    "def fun(x,*y):\n",
    "    print(x)\n",
    "    print(y)"
   ]
  },
  {
   "cell_type": "code",
   "execution_count": 27,
   "id": "5b71ffb4",
   "metadata": {},
   "outputs": [
    {
     "name": "stdout",
     "output_type": "stream",
     "text": [
      "5\n",
      "(5, 56, 4, 3, 4, 3)\n"
     ]
    }
   ],
   "source": [
    "fun(5,5,56,4,3,4,3)"
   ]
  },
  {
   "cell_type": "code",
   "execution_count": null,
   "id": "e8958257",
   "metadata": {},
   "outputs": [],
   "source": []
  }
 ],
 "metadata": {
  "kernelspec": {
   "display_name": "Python 3 (ipykernel)",
   "language": "python",
   "name": "python3"
  },
  "language_info": {
   "codemirror_mode": {
    "name": "ipython",
    "version": 3
   },
   "file_extension": ".py",
   "mimetype": "text/x-python",
   "name": "python",
   "nbconvert_exporter": "python",
   "pygments_lexer": "ipython3",
   "version": "3.11.4"
  }
 },
 "nbformat": 4,
 "nbformat_minor": 5
}
