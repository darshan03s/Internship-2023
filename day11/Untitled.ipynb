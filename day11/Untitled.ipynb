{
 "cells": [
  {
   "cell_type": "code",
   "execution_count": null,
   "id": "d1aa4631",
   "metadata": {},
   "outputs": [],
   "source": [
    "Applications:\n",
    "sales forecasting\n",
    "satisfaction analysis\n",
    "price estimation\n",
    "employment income"
   ]
  },
  {
   "cell_type": "code",
   "execution_count": null,
   "id": "15e709b7",
   "metadata": {},
   "outputs": [],
   "source": [
    "Oxdinal regression\n",
    "poisson regression\n",
    "fast forest quantile regression\n",
    "linear polynomial\n",
    "bayesian linear reg\n",
    "neural network reg\n",
    "decision trace reg\n",
    "k nearest neighbour\n",
    "boosted decision"
   ]
  },
  {
   "cell_type": "code",
   "execution_count": null,
   "id": "51b353d6",
   "metadata": {},
   "outputs": [],
   "source": []
  }
 ],
 "metadata": {
  "kernelspec": {
   "display_name": "Python 3 (ipykernel)",
   "language": "python",
   "name": "python3"
  },
  "language_info": {
   "codemirror_mode": {
    "name": "ipython",
    "version": 3
   },
   "file_extension": ".py",
   "mimetype": "text/x-python",
   "name": "python",
   "nbconvert_exporter": "python",
   "pygments_lexer": "ipython3",
   "version": "3.11.5"
  }
 },
 "nbformat": 4,
 "nbformat_minor": 5
}
