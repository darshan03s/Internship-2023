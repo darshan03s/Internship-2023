{
 "cells": [
  {
   "cell_type": "code",
   "execution_count": 3,
   "id": "a59320ad",
   "metadata": {},
   "outputs": [],
   "source": [
    "import joblib\n",
    "import pandas as pd"
   ]
  },
  {
   "cell_type": "code",
   "execution_count": 2,
   "id": "39a698ee",
   "metadata": {},
   "outputs": [],
   "source": [
    "load = joblib.load('Stock3.joblib')"
   ]
  },
  {
   "cell_type": "code",
   "execution_count": 5,
   "id": "a681d8b7",
   "metadata": {},
   "outputs": [],
   "source": [
    "X_new = pd.DataFrame({\n",
    "    'Open' : [98.260002],\n",
    "    'High' : [100.139999],\n",
    "    'Low' : [96.709999],\n",
    "    'Volume' : [41640800]\n",
    "})"
   ]
  },
  {
   "cell_type": "code",
   "execution_count": 6,
   "id": "49e82051",
   "metadata": {},
   "outputs": [
    {
     "data": {
      "text/plain": [
       "array([98.54886909])"
      ]
     },
     "execution_count": 6,
     "metadata": {},
     "output_type": "execute_result"
    }
   ],
   "source": [
    "load.predict(X_new)"
   ]
  },
  {
   "cell_type": "code",
   "execution_count": 7,
   "id": "d4050f03",
   "metadata": {},
   "outputs": [
    {
     "name": "stdout",
     "output_type": "stream",
     "text": [
      "Today's date: 2023-11-15\n"
     ]
    }
   ],
   "source": [
    "from datetime import datetime\n",
    "\n",
    "today_date = datetime.today().date()\n",
    "\n",
    "print(\"Today's date:\", today_date)\n"
   ]
  }
 ],
 "metadata": {
  "kernelspec": {
   "display_name": "Python 3 (ipykernel)",
   "language": "python",
   "name": "python3"
  },
  "language_info": {
   "codemirror_mode": {
    "name": "ipython",
    "version": 3
   },
   "file_extension": ".py",
   "mimetype": "text/x-python",
   "name": "python",
   "nbconvert_exporter": "python",
   "pygments_lexer": "ipython3",
   "version": "3.11.5"
  }
 },
 "nbformat": 4,
 "nbformat_minor": 5
}
