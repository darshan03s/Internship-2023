{
 "cells": [
  {
   "cell_type": "markdown",
   "id": "92fe7fd2",
   "metadata": {},
   "source": [
    "# Linear Regression Model for Google Stock Prices using Yfinance(Yahoo Finance)"
   ]
  },
  {
   "cell_type": "markdown",
   "id": "f84e0057",
   "metadata": {},
   "source": [
    "### Importing Modules"
   ]
  },
  {
   "cell_type": "code",
   "execution_count": 1,
   "id": "8d47c6e6",
   "metadata": {},
   "outputs": [],
   "source": [
    "import yfinance as yf\n",
    "import pandas as pd\n",
    "import numpy as np\n",
    "from matplotlib import pyplot as plt"
   ]
  },
  {
   "cell_type": "markdown",
   "id": "cd569982",
   "metadata": {},
   "source": [
    "### Get Historical Data using yfinance"
   ]
  },
  {
   "cell_type": "code",
   "execution_count": 2,
   "id": "1efaa172",
   "metadata": {},
   "outputs": [],
   "source": [
    "ticker_symbol = \"GOOGL\"\n",
    "google_stock = yf.Ticker(ticker_symbol)\n",
    "\n",
    "historical_data = google_stock.history(period=\"max\")"
   ]
  },
  {
   "cell_type": "code",
   "execution_count": 3,
   "id": "f1ab002b",
   "metadata": {},
   "outputs": [
    {
     "data": {
      "text/html": [
       "<div>\n",
       "<style scoped>\n",
       "    .dataframe tbody tr th:only-of-type {\n",
       "        vertical-align: middle;\n",
       "    }\n",
       "\n",
       "    .dataframe tbody tr th {\n",
       "        vertical-align: top;\n",
       "    }\n",
       "\n",
       "    .dataframe thead th {\n",
       "        text-align: right;\n",
       "    }\n",
       "</style>\n",
       "<table border=\"1\" class=\"dataframe\">\n",
       "  <thead>\n",
       "    <tr style=\"text-align: right;\">\n",
       "      <th></th>\n",
       "      <th>Open</th>\n",
       "      <th>High</th>\n",
       "      <th>Low</th>\n",
       "      <th>Close</th>\n",
       "      <th>Volume</th>\n",
       "      <th>Dividends</th>\n",
       "      <th>Stock Splits</th>\n",
       "    </tr>\n",
       "    <tr>\n",
       "      <th>Date</th>\n",
       "      <th></th>\n",
       "      <th></th>\n",
       "      <th></th>\n",
       "      <th></th>\n",
       "      <th></th>\n",
       "      <th></th>\n",
       "      <th></th>\n",
       "    </tr>\n",
       "  </thead>\n",
       "  <tbody>\n",
       "    <tr>\n",
       "      <th>2004-08-19 00:00:00-04:00</th>\n",
       "      <td>2.502503</td>\n",
       "      <td>2.604104</td>\n",
       "      <td>2.401401</td>\n",
       "      <td>2.511011</td>\n",
       "      <td>893181924</td>\n",
       "      <td>0.0</td>\n",
       "      <td>0.0</td>\n",
       "    </tr>\n",
       "    <tr>\n",
       "      <th>2004-08-20 00:00:00-04:00</th>\n",
       "      <td>2.527778</td>\n",
       "      <td>2.729730</td>\n",
       "      <td>2.515015</td>\n",
       "      <td>2.710460</td>\n",
       "      <td>456686856</td>\n",
       "      <td>0.0</td>\n",
       "      <td>0.0</td>\n",
       "    </tr>\n",
       "    <tr>\n",
       "      <th>2004-08-23 00:00:00-04:00</th>\n",
       "      <td>2.771522</td>\n",
       "      <td>2.839840</td>\n",
       "      <td>2.728979</td>\n",
       "      <td>2.737738</td>\n",
       "      <td>365122512</td>\n",
       "      <td>0.0</td>\n",
       "      <td>0.0</td>\n",
       "    </tr>\n",
       "    <tr>\n",
       "      <th>2004-08-24 00:00:00-04:00</th>\n",
       "      <td>2.783784</td>\n",
       "      <td>2.792793</td>\n",
       "      <td>2.591842</td>\n",
       "      <td>2.624374</td>\n",
       "      <td>304946748</td>\n",
       "      <td>0.0</td>\n",
       "      <td>0.0</td>\n",
       "    </tr>\n",
       "    <tr>\n",
       "      <th>2004-08-25 00:00:00-04:00</th>\n",
       "      <td>2.626627</td>\n",
       "      <td>2.702703</td>\n",
       "      <td>2.599600</td>\n",
       "      <td>2.652653</td>\n",
       "      <td>183772044</td>\n",
       "      <td>0.0</td>\n",
       "      <td>0.0</td>\n",
       "    </tr>\n",
       "    <tr>\n",
       "      <th>...</th>\n",
       "      <td>...</td>\n",
       "      <td>...</td>\n",
       "      <td>...</td>\n",
       "      <td>...</td>\n",
       "      <td>...</td>\n",
       "      <td>...</td>\n",
       "      <td>...</td>\n",
       "    </tr>\n",
       "    <tr>\n",
       "      <th>2023-11-08 00:00:00-05:00</th>\n",
       "      <td>130.970001</td>\n",
       "      <td>132.210007</td>\n",
       "      <td>130.779999</td>\n",
       "      <td>131.839996</td>\n",
       "      <td>26425800</td>\n",
       "      <td>0.0</td>\n",
       "      <td>0.0</td>\n",
       "    </tr>\n",
       "    <tr>\n",
       "      <th>2023-11-09 00:00:00-05:00</th>\n",
       "      <td>131.960007</td>\n",
       "      <td>132.550003</td>\n",
       "      <td>130.070007</td>\n",
       "      <td>130.240005</td>\n",
       "      <td>23747800</td>\n",
       "      <td>0.0</td>\n",
       "      <td>0.0</td>\n",
       "    </tr>\n",
       "    <tr>\n",
       "      <th>2023-11-10 00:00:00-05:00</th>\n",
       "      <td>130.100006</td>\n",
       "      <td>132.800003</td>\n",
       "      <td>129.410004</td>\n",
       "      <td>132.589996</td>\n",
       "      <td>26913300</td>\n",
       "      <td>0.0</td>\n",
       "      <td>0.0</td>\n",
       "    </tr>\n",
       "    <tr>\n",
       "      <th>2023-11-13 00:00:00-05:00</th>\n",
       "      <td>131.779999</td>\n",
       "      <td>132.589996</td>\n",
       "      <td>131.250000</td>\n",
       "      <td>132.089996</td>\n",
       "      <td>18324800</td>\n",
       "      <td>0.0</td>\n",
       "      <td>0.0</td>\n",
       "    </tr>\n",
       "    <tr>\n",
       "      <th>2023-11-14 00:00:00-05:00</th>\n",
       "      <td>134.190002</td>\n",
       "      <td>135.699997</td>\n",
       "      <td>133.320007</td>\n",
       "      <td>133.619995</td>\n",
       "      <td>32339000</td>\n",
       "      <td>0.0</td>\n",
       "      <td>0.0</td>\n",
       "    </tr>\n",
       "  </tbody>\n",
       "</table>\n",
       "<p>4844 rows × 7 columns</p>\n",
       "</div>"
      ],
      "text/plain": [
       "                                 Open        High         Low       Close  \\\n",
       "Date                                                                        \n",
       "2004-08-19 00:00:00-04:00    2.502503    2.604104    2.401401    2.511011   \n",
       "2004-08-20 00:00:00-04:00    2.527778    2.729730    2.515015    2.710460   \n",
       "2004-08-23 00:00:00-04:00    2.771522    2.839840    2.728979    2.737738   \n",
       "2004-08-24 00:00:00-04:00    2.783784    2.792793    2.591842    2.624374   \n",
       "2004-08-25 00:00:00-04:00    2.626627    2.702703    2.599600    2.652653   \n",
       "...                               ...         ...         ...         ...   \n",
       "2023-11-08 00:00:00-05:00  130.970001  132.210007  130.779999  131.839996   \n",
       "2023-11-09 00:00:00-05:00  131.960007  132.550003  130.070007  130.240005   \n",
       "2023-11-10 00:00:00-05:00  130.100006  132.800003  129.410004  132.589996   \n",
       "2023-11-13 00:00:00-05:00  131.779999  132.589996  131.250000  132.089996   \n",
       "2023-11-14 00:00:00-05:00  134.190002  135.699997  133.320007  133.619995   \n",
       "\n",
       "                              Volume  Dividends  Stock Splits  \n",
       "Date                                                           \n",
       "2004-08-19 00:00:00-04:00  893181924        0.0           0.0  \n",
       "2004-08-20 00:00:00-04:00  456686856        0.0           0.0  \n",
       "2004-08-23 00:00:00-04:00  365122512        0.0           0.0  \n",
       "2004-08-24 00:00:00-04:00  304946748        0.0           0.0  \n",
       "2004-08-25 00:00:00-04:00  183772044        0.0           0.0  \n",
       "...                              ...        ...           ...  \n",
       "2023-11-08 00:00:00-05:00   26425800        0.0           0.0  \n",
       "2023-11-09 00:00:00-05:00   23747800        0.0           0.0  \n",
       "2023-11-10 00:00:00-05:00   26913300        0.0           0.0  \n",
       "2023-11-13 00:00:00-05:00   18324800        0.0           0.0  \n",
       "2023-11-14 00:00:00-05:00   32339000        0.0           0.0  \n",
       "\n",
       "[4844 rows x 7 columns]"
      ]
     },
     "execution_count": 3,
     "metadata": {},
     "output_type": "execute_result"
    }
   ],
   "source": [
    "historical_data"
   ]
  },
  {
   "cell_type": "markdown",
   "id": "b60456b3",
   "metadata": {},
   "source": [
    "### Drop last two columns"
   ]
  },
  {
   "cell_type": "code",
   "execution_count": 4,
   "id": "80a2854c",
   "metadata": {
    "scrolled": true
   },
   "outputs": [],
   "source": [
    "historical_data.drop(columns=['Stock Splits'], inplace=True)\n",
    "historical_data.drop(columns=['Dividends'], inplace=True)"
   ]
  },
  {
   "cell_type": "code",
   "execution_count": 5,
   "id": "46fcd12f",
   "metadata": {},
   "outputs": [
    {
     "data": {
      "text/plain": [
       "Date\n",
       "2004-08-19 00:00:00-04:00      2.604104\n",
       "2004-08-20 00:00:00-04:00      2.729730\n",
       "2004-08-23 00:00:00-04:00      2.839840\n",
       "2004-08-24 00:00:00-04:00      2.792793\n",
       "2004-08-25 00:00:00-04:00      2.702703\n",
       "                                ...    \n",
       "2023-11-08 00:00:00-05:00    132.210007\n",
       "2023-11-09 00:00:00-05:00    132.550003\n",
       "2023-11-10 00:00:00-05:00    132.800003\n",
       "2023-11-13 00:00:00-05:00    132.589996\n",
       "2023-11-14 00:00:00-05:00    135.699997\n",
       "Name: High, Length: 4844, dtype: float64"
      ]
     },
     "execution_count": 5,
     "metadata": {},
     "output_type": "execute_result"
    }
   ],
   "source": [
    "historical_data['High']"
   ]
  },
  {
   "cell_type": "markdown",
   "id": "7a4bf811",
   "metadata": {},
   "source": [
    "### Plot Entire Data, Date vs Closing Price"
   ]
  },
  {
   "cell_type": "code",
   "execution_count": 6,
   "id": "2dbdb990",
   "metadata": {},
   "outputs": [
    {
     "data": {
      "text/plain": [
       "Text(0.5, 1.0, 'Closing Prices of Google Stock from 2004 to 2024')"
      ]
     },
     "execution_count": 6,
     "metadata": {},
     "output_type": "execute_result"
    },
    {
     "data": {
      "image/png": "[encoded data removed]",
      "text/plain": [
       "<Figure size 640x480 with 1 Axes>"
      ]
     },
     "metadata": {},
     "output_type": "display_data"
    }
   ],
   "source": [
    "plt.plot(historical_data.index, historical_data['Close'])\n",
    "plt.xlabel('Date')\n",
    "plt.ylabel('Closing Prices')\n",
    "plt.title('Closing Prices of Google Stock from 2004 to 2024')"
   ]
  },
  {
   "cell_type": "code",
   "execution_count": 7,
   "id": "e2ceba53",
   "metadata": {
    "scrolled": true
   },
   "outputs": [
    {
     "name": "stdout",
     "output_type": "stream",
     "text": [
      "<class 'pandas.core.frame.DataFrame'>\n",
      "DatetimeIndex: 4844 entries, 2004-08-19 00:00:00-04:00 to 2023-11-14 00:00:00-05:00\n",
      "Data columns (total 5 columns):\n",
      " #   Column  Non-Null Count  Dtype  \n",
      "---  ------  --------------  -----  \n",
      " 0   Open    4844 non-null   float64\n",
      " 1   High    4844 non-null   float64\n",
      " 2   Low     4844 non-null   float64\n",
      " 3   Close   4844 non-null   float64\n",
      " 4   Volume  4844 non-null   int64  \n",
      "dtypes: float64(4), int64(1)\n",
      "memory usage: 227.1 KB\n"
     ]
    }
   ],
   "source": [
    "historical_data.info()"
   ]
  },
  {
   "cell_type": "markdown",
   "id": "fd33c2c1",
   "metadata": {},
   "source": [
    "### Get Stock data upto 2022-11-14"
   ]
  },
  {
   "cell_type": "code",
   "execution_count": 8,
   "id": "03c41d9c",
   "metadata": {},
   "outputs": [],
   "source": [
    "stock_data = yf.Ticker(ticker_symbol).history(start='2004-08-19', end='2022-11-14')\n",
    "\n",
    "stock_data.drop(columns=['Stock Splits'], inplace=True)\n",
    "stock_data.drop(columns=['Dividends'], inplace=True)"
   ]
  },
  {
   "cell_type": "code",
   "execution_count": 9,
   "id": "e42fa5fb",
   "metadata": {},
   "outputs": [
    {
     "data": {
      "text/html": [
       "<div>\n",
       "<style scoped>\n",
       "    .dataframe tbody tr th:only-of-type {\n",
       "        vertical-align: middle;\n",
       "    }\n",
       "\n",
       "    .dataframe tbody tr th {\n",
       "        vertical-align: top;\n",
       "    }\n",
       "\n",
       "    .dataframe thead th {\n",
       "        text-align: right;\n",
       "    }\n",
       "</style>\n",
       "<table border=\"1\" class=\"dataframe\">\n",
       "  <thead>\n",
       "    <tr style=\"text-align: right;\">\n",
       "      <th></th>\n",
       "      <th>Open</th>\n",
       "      <th>High</th>\n",
       "      <th>Low</th>\n",
       "      <th>Close</th>\n",
       "      <th>Volume</th>\n",
       "    </tr>\n",
       "    <tr>\n",
       "      <th>Date</th>\n",
       "      <th></th>\n",
       "      <th></th>\n",
       "      <th></th>\n",
       "      <th></th>\n",
       "      <th></th>\n",
       "    </tr>\n",
       "  </thead>\n",
       "  <tbody>\n",
       "    <tr>\n",
       "      <th>2004-08-19 00:00:00-04:00</th>\n",
       "      <td>2.502503</td>\n",
       "      <td>2.604104</td>\n",
       "      <td>2.401401</td>\n",
       "      <td>2.511011</td>\n",
       "      <td>893181924</td>\n",
       "    </tr>\n",
       "    <tr>\n",
       "      <th>2004-08-20 00:00:00-04:00</th>\n",
       "      <td>2.527778</td>\n",
       "      <td>2.729730</td>\n",
       "      <td>2.515015</td>\n",
       "      <td>2.710460</td>\n",
       "      <td>456686856</td>\n",
       "    </tr>\n",
       "    <tr>\n",
       "      <th>2004-08-23 00:00:00-04:00</th>\n",
       "      <td>2.771522</td>\n",
       "      <td>2.839840</td>\n",
       "      <td>2.728979</td>\n",
       "      <td>2.737738</td>\n",
       "      <td>365122512</td>\n",
       "    </tr>\n",
       "    <tr>\n",
       "      <th>2004-08-24 00:00:00-04:00</th>\n",
       "      <td>2.783784</td>\n",
       "      <td>2.792793</td>\n",
       "      <td>2.591842</td>\n",
       "      <td>2.624374</td>\n",
       "      <td>304946748</td>\n",
       "    </tr>\n",
       "    <tr>\n",
       "      <th>2004-08-25 00:00:00-04:00</th>\n",
       "      <td>2.626627</td>\n",
       "      <td>2.702703</td>\n",
       "      <td>2.599600</td>\n",
       "      <td>2.652653</td>\n",
       "      <td>183772044</td>\n",
       "    </tr>\n",
       "    <tr>\n",
       "      <th>...</th>\n",
       "      <td>...</td>\n",
       "      <td>...</td>\n",
       "      <td>...</td>\n",
       "      <td>...</td>\n",
       "      <td>...</td>\n",
       "    </tr>\n",
       "    <tr>\n",
       "      <th>2022-11-07 00:00:00-05:00</th>\n",
       "      <td>87.279999</td>\n",
       "      <td>88.900002</td>\n",
       "      <td>86.849998</td>\n",
       "      <td>88.489998</td>\n",
       "      <td>34078900</td>\n",
       "    </tr>\n",
       "    <tr>\n",
       "      <th>2022-11-08 00:00:00-05:00</th>\n",
       "      <td>88.900002</td>\n",
       "      <td>90.320000</td>\n",
       "      <td>87.589996</td>\n",
       "      <td>88.900002</td>\n",
       "      <td>30429000</td>\n",
       "    </tr>\n",
       "    <tr>\n",
       "      <th>2022-11-09 00:00:00-05:00</th>\n",
       "      <td>88.449997</td>\n",
       "      <td>89.440002</td>\n",
       "      <td>87.279999</td>\n",
       "      <td>87.320000</td>\n",
       "      <td>31769100</td>\n",
       "    </tr>\n",
       "    <tr>\n",
       "      <th>2022-11-10 00:00:00-05:00</th>\n",
       "      <td>92.250000</td>\n",
       "      <td>94.389999</td>\n",
       "      <td>91.610001</td>\n",
       "      <td>93.940002</td>\n",
       "      <td>51620100</td>\n",
       "    </tr>\n",
       "    <tr>\n",
       "      <th>2022-11-11 00:00:00-05:00</th>\n",
       "      <td>94.690002</td>\n",
       "      <td>96.930000</td>\n",
       "      <td>93.919998</td>\n",
       "      <td>96.410004</td>\n",
       "      <td>33090500</td>\n",
       "    </tr>\n",
       "  </tbody>\n",
       "</table>\n",
       "<p>4592 rows × 5 columns</p>\n",
       "</div>"
      ],
      "text/plain": [
       "                                Open       High        Low      Close  \\\n",
       "Date                                                                    \n",
       "2004-08-19 00:00:00-04:00   2.502503   2.604104   2.401401   2.511011   \n",
       "2004-08-20 00:00:00-04:00   2.527778   2.729730   2.515015   2.710460   \n",
       "2004-08-23 00:00:00-04:00   2.771522   2.839840   2.728979   2.737738   \n",
       "2004-08-24 00:00:00-04:00   2.783784   2.792793   2.591842   2.624374   \n",
       "2004-08-25 00:00:00-04:00   2.626627   2.702703   2.599600   2.652653   \n",
       "...                              ...        ...        ...        ...   \n",
       "2022-11-07 00:00:00-05:00  87.279999  88.900002  86.849998  88.489998   \n",
       "2022-11-08 00:00:00-05:00  88.900002  90.320000  87.589996  88.900002   \n",
       "2022-11-09 00:00:00-05:00  88.449997  89.440002  87.279999  87.320000   \n",
       "2022-11-10 00:00:00-05:00  92.250000  94.389999  91.610001  93.940002   \n",
       "2022-11-11 00:00:00-05:00  94.690002  96.930000  93.919998  96.410004   \n",
       "\n",
       "                              Volume  \n",
       "Date                                  \n",
       "2004-08-19 00:00:00-04:00  893181924  \n",
       "2004-08-20 00:00:00-04:00  456686856  \n",
       "2004-08-23 00:00:00-04:00  365122512  \n",
       "2004-08-24 00:00:00-04:00  304946748  \n",
       "2004-08-25 00:00:00-04:00  183772044  \n",
       "...                              ...  \n",
       "2022-11-07 00:00:00-05:00   34078900  \n",
       "2022-11-08 00:00:00-05:00   30429000  \n",
       "2022-11-09 00:00:00-05:00   31769100  \n",
       "2022-11-10 00:00:00-05:00   51620100  \n",
       "2022-11-11 00:00:00-05:00   33090500  \n",
       "\n",
       "[4592 rows x 5 columns]"
      ]
     },
     "execution_count": 9,
     "metadata": {},
     "output_type": "execute_result"
    }
   ],
   "source": [
    "stock_data"
   ]
  },
  {
   "cell_type": "markdown",
   "id": "7eff01cc",
   "metadata": {},
   "source": [
    "### Make X variable as Features and y as Target"
   ]
  },
  {
   "cell_type": "code",
   "execution_count": 10,
   "id": "22f9e098",
   "metadata": {},
   "outputs": [
    {
     "data": {
      "text/html": [
       "<div>\n",
       "<style scoped>\n",
       "    .dataframe tbody tr th:only-of-type {\n",
       "        vertical-align: middle;\n",
       "    }\n",
       "\n",
       "    .dataframe tbody tr th {\n",
       "        vertical-align: top;\n",
       "    }\n",
       "\n",
       "    .dataframe thead th {\n",
       "        text-align: right;\n",
       "    }\n",
       "</style>\n",
       "<table border=\"1\" class=\"dataframe\">\n",
       "  <thead>\n",
       "    <tr style=\"text-align: right;\">\n",
       "      <th></th>\n",
       "      <th>Open</th>\n",
       "      <th>High</th>\n",
       "      <th>Low</th>\n",
       "      <th>Volume</th>\n",
       "    </tr>\n",
       "    <tr>\n",
       "      <th>Date</th>\n",
       "      <th></th>\n",
       "      <th></th>\n",
       "      <th></th>\n",
       "      <th></th>\n",
       "    </tr>\n",
       "  </thead>\n",
       "  <tbody>\n",
       "    <tr>\n",
       "      <th>2004-08-19 00:00:00-04:00</th>\n",
       "      <td>2.502503</td>\n",
       "      <td>2.604104</td>\n",
       "      <td>2.401401</td>\n",
       "      <td>893181924</td>\n",
       "    </tr>\n",
       "    <tr>\n",
       "      <th>2004-08-20 00:00:00-04:00</th>\n",
       "      <td>2.527778</td>\n",
       "      <td>2.729730</td>\n",
       "      <td>2.515015</td>\n",
       "      <td>456686856</td>\n",
       "    </tr>\n",
       "    <tr>\n",
       "      <th>2004-08-23 00:00:00-04:00</th>\n",
       "      <td>2.771522</td>\n",
       "      <td>2.839840</td>\n",
       "      <td>2.728979</td>\n",
       "      <td>365122512</td>\n",
       "    </tr>\n",
       "    <tr>\n",
       "      <th>2004-08-24 00:00:00-04:00</th>\n",
       "      <td>2.783784</td>\n",
       "      <td>2.792793</td>\n",
       "      <td>2.591842</td>\n",
       "      <td>304946748</td>\n",
       "    </tr>\n",
       "    <tr>\n",
       "      <th>2004-08-25 00:00:00-04:00</th>\n",
       "      <td>2.626627</td>\n",
       "      <td>2.702703</td>\n",
       "      <td>2.599600</td>\n",
       "      <td>183772044</td>\n",
       "    </tr>\n",
       "    <tr>\n",
       "      <th>...</th>\n",
       "      <td>...</td>\n",
       "      <td>...</td>\n",
       "      <td>...</td>\n",
       "      <td>...</td>\n",
       "    </tr>\n",
       "    <tr>\n",
       "      <th>2022-11-07 00:00:00-05:00</th>\n",
       "      <td>87.279999</td>\n",
       "      <td>88.900002</td>\n",
       "      <td>86.849998</td>\n",
       "      <td>34078900</td>\n",
       "    </tr>\n",
       "    <tr>\n",
       "      <th>2022-11-08 00:00:00-05:00</th>\n",
       "      <td>88.900002</td>\n",
       "      <td>90.320000</td>\n",
       "      <td>87.589996</td>\n",
       "      <td>30429000</td>\n",
       "    </tr>\n",
       "    <tr>\n",
       "      <th>2022-11-09 00:00:00-05:00</th>\n",
       "      <td>88.449997</td>\n",
       "      <td>89.440002</td>\n",
       "      <td>87.279999</td>\n",
       "      <td>31769100</td>\n",
       "    </tr>\n",
       "    <tr>\n",
       "      <th>2022-11-10 00:00:00-05:00</th>\n",
       "      <td>92.250000</td>\n",
       "      <td>94.389999</td>\n",
       "      <td>91.610001</td>\n",
       "      <td>51620100</td>\n",
       "    </tr>\n",
       "    <tr>\n",
       "      <th>2022-11-11 00:00:00-05:00</th>\n",
       "      <td>94.690002</td>\n",
       "      <td>96.930000</td>\n",
       "      <td>93.919998</td>\n",
       "      <td>33090500</td>\n",
       "    </tr>\n",
       "  </tbody>\n",
       "</table>\n",
       "<p>4592 rows × 4 columns</p>\n",
       "</div>"
      ],
      "text/plain": [
       "                                Open       High        Low     Volume\n",
       "Date                                                                 \n",
       "2004-08-19 00:00:00-04:00   2.502503   2.604104   2.401401  893181924\n",
       "2004-08-20 00:00:00-04:00   2.527778   2.729730   2.515015  456686856\n",
       "2004-08-23 00:00:00-04:00   2.771522   2.839840   2.728979  365122512\n",
       "2004-08-24 00:00:00-04:00   2.783784   2.792793   2.591842  304946748\n",
       "2004-08-25 00:00:00-04:00   2.626627   2.702703   2.599600  183772044\n",
       "...                              ...        ...        ...        ...\n",
       "2022-11-07 00:00:00-05:00  87.279999  88.900002  86.849998   34078900\n",
       "2022-11-08 00:00:00-05:00  88.900002  90.320000  87.589996   30429000\n",
       "2022-11-09 00:00:00-05:00  88.449997  89.440002  87.279999   31769100\n",
       "2022-11-10 00:00:00-05:00  92.250000  94.389999  91.610001   51620100\n",
       "2022-11-11 00:00:00-05:00  94.690002  96.930000  93.919998   33090500\n",
       "\n",
       "[4592 rows x 4 columns]"
      ]
     },
     "execution_count": 10,
     "metadata": {},
     "output_type": "execute_result"
    }
   ],
   "source": [
    "X = stock_data[['Open', 'High', 'Low', 'Volume']]\n",
    "X"
   ]
  },
  {
   "cell_type": "code",
   "execution_count": 11,
   "id": "c0405d6b",
   "metadata": {},
   "outputs": [
    {
     "data": {
      "text/plain": [
       "Date\n",
       "2004-08-19 00:00:00-04:00     2.511011\n",
       "2004-08-20 00:00:00-04:00     2.710460\n",
       "2004-08-23 00:00:00-04:00     2.737738\n",
       "2004-08-24 00:00:00-04:00     2.624374\n",
       "2004-08-25 00:00:00-04:00     2.652653\n",
       "                               ...    \n",
       "2022-11-07 00:00:00-05:00    88.489998\n",
       "2022-11-08 00:00:00-05:00    88.900002\n",
       "2022-11-09 00:00:00-05:00    87.320000\n",
       "2022-11-10 00:00:00-05:00    93.940002\n",
       "2022-11-11 00:00:00-05:00    96.410004\n",
       "Name: Close, Length: 4592, dtype: float64"
      ]
     },
     "execution_count": 11,
     "metadata": {},
     "output_type": "execute_result"
    }
   ],
   "source": [
    "y = stock_data['Close']\n",
    "y"
   ]
  },
  {
   "cell_type": "markdown",
   "id": "2bc430ba",
   "metadata": {},
   "source": [
    "### Use sklearn to split data in Train and Test sets"
   ]
  },
  {
   "cell_type": "code",
   "execution_count": 12,
   "id": "5896b626",
   "metadata": {},
   "outputs": [],
   "source": [
    "from sklearn.model_selection import train_test_split"
   ]
  },
  {
   "cell_type": "code",
   "execution_count": 13,
   "id": "57dfea89",
   "metadata": {},
   "outputs": [
    {
     "name": "stdout",
     "output_type": "stream",
     "text": [
      "\n",
      "Missing Values:\n",
      "Open      0\n",
      "High      0\n",
      "Low       0\n",
      "Volume    0\n",
      "dtype: int64\n"
     ]
    }
   ],
   "source": [
    "print(\"\\nMissing Values:\")\n",
    "print(X.isnull().sum())"
   ]
  },
  {
   "cell_type": "markdown",
   "id": "417962cb",
   "metadata": {},
   "source": [
    "### Split the data"
   ]
  },
  {
   "cell_type": "code",
   "execution_count": 14,
   "id": "98dab813",
   "metadata": {},
   "outputs": [],
   "source": [
    "X_train, X_test, y_train, y_test = train_test_split(X,y,test_size=0.2,random_state=42)"
   ]
  },
  {
   "cell_type": "code",
   "execution_count": 15,
   "id": "0f30c4ea",
   "metadata": {},
   "outputs": [
    {
     "data": {
      "text/html": [
       "<div>\n",
       "<style scoped>\n",
       "    .dataframe tbody tr th:only-of-type {\n",
       "        vertical-align: middle;\n",
       "    }\n",
       "\n",
       "    .dataframe tbody tr th {\n",
       "        vertical-align: top;\n",
       "    }\n",
       "\n",
       "    .dataframe thead th {\n",
       "        text-align: right;\n",
       "    }\n",
       "</style>\n",
       "<table border=\"1\" class=\"dataframe\">\n",
       "  <thead>\n",
       "    <tr style=\"text-align: right;\">\n",
       "      <th></th>\n",
       "      <th>Open</th>\n",
       "      <th>High</th>\n",
       "      <th>Low</th>\n",
       "      <th>Volume</th>\n",
       "    </tr>\n",
       "    <tr>\n",
       "      <th>Date</th>\n",
       "      <th></th>\n",
       "      <th></th>\n",
       "      <th></th>\n",
       "      <th></th>\n",
       "    </tr>\n",
       "  </thead>\n",
       "  <tbody>\n",
       "    <tr>\n",
       "      <th>2010-03-16 00:00:00-04:00</th>\n",
       "      <td>14.059810</td>\n",
       "      <td>14.224725</td>\n",
       "      <td>14.033033</td>\n",
       "      <td>137122740</td>\n",
       "    </tr>\n",
       "    <tr>\n",
       "      <th>2011-07-12 00:00:00-04:00</th>\n",
       "      <td>13.217217</td>\n",
       "      <td>13.498999</td>\n",
       "      <td>13.163163</td>\n",
       "      <td>113534352</td>\n",
       "    </tr>\n",
       "    <tr>\n",
       "      <th>2022-04-01 00:00:00-04:00</th>\n",
       "      <td>139.500000</td>\n",
       "      <td>140.470993</td>\n",
       "      <td>138.307495</td>\n",
       "      <td>25942000</td>\n",
       "    </tr>\n",
       "    <tr>\n",
       "      <th>2019-03-29 00:00:00-04:00</th>\n",
       "      <td>59.008999</td>\n",
       "      <td>59.198502</td>\n",
       "      <td>58.319000</td>\n",
       "      <td>30890000</td>\n",
       "    </tr>\n",
       "    <tr>\n",
       "      <th>2008-09-15 00:00:00-04:00</th>\n",
       "      <td>10.610611</td>\n",
       "      <td>11.060310</td>\n",
       "      <td>10.603353</td>\n",
       "      <td>262433304</td>\n",
       "    </tr>\n",
       "    <tr>\n",
       "      <th>...</th>\n",
       "      <td>...</td>\n",
       "      <td>...</td>\n",
       "      <td>...</td>\n",
       "      <td>...</td>\n",
       "    </tr>\n",
       "    <tr>\n",
       "      <th>2022-03-18 00:00:00-04:00</th>\n",
       "      <td>133.424500</td>\n",
       "      <td>136.244003</td>\n",
       "      <td>132.258499</td>\n",
       "      <td>44566000</td>\n",
       "    </tr>\n",
       "    <tr>\n",
       "      <th>2006-06-26 00:00:00-04:00</th>\n",
       "      <td>10.178929</td>\n",
       "      <td>10.217718</td>\n",
       "      <td>10.091341</td>\n",
       "      <td>141905952</td>\n",
       "    </tr>\n",
       "    <tr>\n",
       "      <th>2016-11-29 00:00:00-05:00</th>\n",
       "      <td>39.418999</td>\n",
       "      <td>39.821999</td>\n",
       "      <td>39.266998</td>\n",
       "      <td>31240000</td>\n",
       "    </tr>\n",
       "    <tr>\n",
       "      <th>2019-08-14 00:00:00-04:00</th>\n",
       "      <td>58.803501</td>\n",
       "      <td>59.139500</td>\n",
       "      <td>58.053501</td>\n",
       "      <td>35430000</td>\n",
       "    </tr>\n",
       "    <tr>\n",
       "      <th>2008-01-18 00:00:00-05:00</th>\n",
       "      <td>15.224224</td>\n",
       "      <td>15.265015</td>\n",
       "      <td>14.976226</td>\n",
       "      <td>341242416</td>\n",
       "    </tr>\n",
       "  </tbody>\n",
       "</table>\n",
       "<p>3673 rows × 4 columns</p>\n",
       "</div>"
      ],
      "text/plain": [
       "                                 Open        High         Low     Volume\n",
       "Date                                                                    \n",
       "2010-03-16 00:00:00-04:00   14.059810   14.224725   14.033033  137122740\n",
       "2011-07-12 00:00:00-04:00   13.217217   13.498999   13.163163  113534352\n",
       "2022-04-01 00:00:00-04:00  139.500000  140.470993  138.307495   25942000\n",
       "2019-03-29 00:00:00-04:00   59.008999   59.198502   58.319000   30890000\n",
       "2008-09-15 00:00:00-04:00   10.610611   11.060310   10.603353  262433304\n",
       "...                               ...         ...         ...        ...\n",
       "2022-03-18 00:00:00-04:00  133.424500  136.244003  132.258499   44566000\n",
       "2006-06-26 00:00:00-04:00   10.178929   10.217718   10.091341  141905952\n",
       "2016-11-29 00:00:00-05:00   39.418999   39.821999   39.266998   31240000\n",
       "2019-08-14 00:00:00-04:00   58.803501   59.139500   58.053501   35430000\n",
       "2008-01-18 00:00:00-05:00   15.224224   15.265015   14.976226  341242416\n",
       "\n",
       "[3673 rows x 4 columns]"
      ]
     },
     "execution_count": 15,
     "metadata": {},
     "output_type": "execute_result"
    }
   ],
   "source": [
    "X_train"
   ]
  },
  {
   "cell_type": "code",
   "execution_count": 16,
   "id": "924c9f4e",
   "metadata": {},
   "outputs": [
    {
     "data": {
      "text/html": [
       "<div>\n",
       "<style scoped>\n",
       "    .dataframe tbody tr th:only-of-type {\n",
       "        vertical-align: middle;\n",
       "    }\n",
       "\n",
       "    .dataframe tbody tr th {\n",
       "        vertical-align: top;\n",
       "    }\n",
       "\n",
       "    .dataframe thead th {\n",
       "        text-align: right;\n",
       "    }\n",
       "</style>\n",
       "<table border=\"1\" class=\"dataframe\">\n",
       "  <thead>\n",
       "    <tr style=\"text-align: right;\">\n",
       "      <th></th>\n",
       "      <th>Open</th>\n",
       "      <th>High</th>\n",
       "      <th>Low</th>\n",
       "      <th>Volume</th>\n",
       "    </tr>\n",
       "    <tr>\n",
       "      <th>Date</th>\n",
       "      <th></th>\n",
       "      <th></th>\n",
       "      <th></th>\n",
       "      <th></th>\n",
       "    </tr>\n",
       "  </thead>\n",
       "  <tbody>\n",
       "    <tr>\n",
       "      <th>2017-05-08 00:00:00-04:00</th>\n",
       "      <td>47.372501</td>\n",
       "      <td>48.049500</td>\n",
       "      <td>47.369999</td>\n",
       "      <td>37534000</td>\n",
       "    </tr>\n",
       "    <tr>\n",
       "      <th>2015-10-30 00:00:00-04:00</th>\n",
       "      <td>37.278000</td>\n",
       "      <td>37.315498</td>\n",
       "      <td>36.826500</td>\n",
       "      <td>39984000</td>\n",
       "    </tr>\n",
       "    <tr>\n",
       "      <th>2011-01-19 00:00:00-05:00</th>\n",
       "      <td>16.069069</td>\n",
       "      <td>16.090090</td>\n",
       "      <td>15.757257</td>\n",
       "      <td>136107756</td>\n",
       "    </tr>\n",
       "    <tr>\n",
       "      <th>2015-05-06 00:00:00-04:00</th>\n",
       "      <td>27.132000</td>\n",
       "      <td>27.196501</td>\n",
       "      <td>26.612000</td>\n",
       "      <td>39034000</td>\n",
       "    </tr>\n",
       "    <tr>\n",
       "      <th>2020-11-02 00:00:00-05:00</th>\n",
       "      <td>81.177002</td>\n",
       "      <td>82.912003</td>\n",
       "      <td>80.711998</td>\n",
       "      <td>44228000</td>\n",
       "    </tr>\n",
       "    <tr>\n",
       "      <th>...</th>\n",
       "      <td>...</td>\n",
       "      <td>...</td>\n",
       "      <td>...</td>\n",
       "      <td>...</td>\n",
       "    </tr>\n",
       "    <tr>\n",
       "      <th>2018-11-28 00:00:00-05:00</th>\n",
       "      <td>52.873001</td>\n",
       "      <td>54.643002</td>\n",
       "      <td>52.147499</td>\n",
       "      <td>46042000</td>\n",
       "    </tr>\n",
       "    <tr>\n",
       "      <th>2007-03-12 00:00:00-04:00</th>\n",
       "      <td>11.325576</td>\n",
       "      <td>11.392643</td>\n",
       "      <td>11.289039</td>\n",
       "      <td>138477384</td>\n",
       "    </tr>\n",
       "    <tr>\n",
       "      <th>2015-05-19 00:00:00-04:00</th>\n",
       "      <td>27.400000</td>\n",
       "      <td>27.670000</td>\n",
       "      <td>27.356001</td>\n",
       "      <td>47126000</td>\n",
       "    </tr>\n",
       "    <tr>\n",
       "      <th>2010-07-14 00:00:00-04:00</th>\n",
       "      <td>12.259259</td>\n",
       "      <td>12.358108</td>\n",
       "      <td>12.173674</td>\n",
       "      <td>124595280</td>\n",
       "    </tr>\n",
       "    <tr>\n",
       "      <th>2013-09-11 00:00:00-04:00</th>\n",
       "      <td>22.235737</td>\n",
       "      <td>22.446697</td>\n",
       "      <td>22.174173</td>\n",
       "      <td>64359576</td>\n",
       "    </tr>\n",
       "  </tbody>\n",
       "</table>\n",
       "<p>919 rows × 4 columns</p>\n",
       "</div>"
      ],
      "text/plain": [
       "                                Open       High        Low     Volume\n",
       "Date                                                                 \n",
       "2017-05-08 00:00:00-04:00  47.372501  48.049500  47.369999   37534000\n",
       "2015-10-30 00:00:00-04:00  37.278000  37.315498  36.826500   39984000\n",
       "2011-01-19 00:00:00-05:00  16.069069  16.090090  15.757257  136107756\n",
       "2015-05-06 00:00:00-04:00  27.132000  27.196501  26.612000   39034000\n",
       "2020-11-02 00:00:00-05:00  81.177002  82.912003  80.711998   44228000\n",
       "...                              ...        ...        ...        ...\n",
       "2018-11-28 00:00:00-05:00  52.873001  54.643002  52.147499   46042000\n",
       "2007-03-12 00:00:00-04:00  11.325576  11.392643  11.289039  138477384\n",
       "2015-05-19 00:00:00-04:00  27.400000  27.670000  27.356001   47126000\n",
       "2010-07-14 00:00:00-04:00  12.259259  12.358108  12.173674  124595280\n",
       "2013-09-11 00:00:00-04:00  22.235737  22.446697  22.174173   64359576\n",
       "\n",
       "[919 rows x 4 columns]"
      ]
     },
     "execution_count": 16,
     "metadata": {},
     "output_type": "execute_result"
    }
   ],
   "source": [
    "X_test"
   ]
  },
  {
   "cell_type": "code",
   "execution_count": 17,
   "id": "f6e4b488",
   "metadata": {},
   "outputs": [
    {
     "data": {
      "text/plain": [
       "Date\n",
       "2010-03-16 00:00:00-04:00     14.144144\n",
       "2011-07-12 00:00:00-04:00     13.363614\n",
       "2022-04-01 00:00:00-04:00    140.150497\n",
       "2019-03-29 00:00:00-04:00     58.844501\n",
       "2008-09-15 00:00:00-04:00     10.857357\n",
       "                                ...    \n",
       "2022-03-18 00:00:00-04:00    136.125504\n",
       "2006-06-26 00:00:00-04:00     10.115616\n",
       "2016-11-29 00:00:00-05:00     39.472000\n",
       "2019-08-14 00:00:00-04:00     58.212502\n",
       "2008-01-18 00:00:00-05:00     15.021271\n",
       "Name: Close, Length: 3673, dtype: float64"
      ]
     },
     "execution_count": 17,
     "metadata": {},
     "output_type": "execute_result"
    }
   ],
   "source": [
    "y_train"
   ]
  },
  {
   "cell_type": "code",
   "execution_count": 18,
   "id": "76675c6d",
   "metadata": {},
   "outputs": [
    {
     "data": {
      "text/plain": [
       "Date\n",
       "2017-05-08 00:00:00-04:00    47.934502\n",
       "2015-10-30 00:00:00-04:00    36.869499\n",
       "2011-01-19 00:00:00-05:00    15.809560\n",
       "2015-05-06 00:00:00-04:00    26.754000\n",
       "2020-11-02 00:00:00-05:00    81.216003\n",
       "                               ...    \n",
       "2018-11-28 00:00:00-05:00    54.589500\n",
       "2007-03-12 00:00:00-04:00    11.380130\n",
       "2015-05-19 00:00:00-04:00    27.464001\n",
       "2010-07-14 00:00:00-04:00    12.295796\n",
       "2013-09-11 00:00:00-04:00    22.427177\n",
       "Name: Close, Length: 919, dtype: float64"
      ]
     },
     "execution_count": 18,
     "metadata": {},
     "output_type": "execute_result"
    }
   ],
   "source": [
    "y_test"
   ]
  },
  {
   "cell_type": "code",
   "execution_count": 19,
   "id": "c1670eee",
   "metadata": {},
   "outputs": [
    {
     "name": "stdout",
     "output_type": "stream",
     "text": [
      "X_train shape: (3673, 4)\n",
      "X_test shape: (919, 4)\n",
      "y_train shape: (3673,)\n",
      "y_test shape: (919,)\n"
     ]
    }
   ],
   "source": [
    "print(\"X_train shape:\", X_train.shape)\n",
    "print(\"X_test shape:\", X_test.shape)\n",
    "print(\"y_train shape:\", y_train.shape)\n",
    "print(\"y_test shape:\", y_test.shape)"
   ]
  },
  {
   "cell_type": "markdown",
   "id": "b547e2cc",
   "metadata": {},
   "source": [
    "### Import LinearRegression model from sklearn for training and mean_squared_error for evaluation"
   ]
  },
  {
   "cell_type": "code",
   "execution_count": 20,
   "id": "45344c82",
   "metadata": {
    "scrolled": false
   },
   "outputs": [],
   "source": [
    "from sklearn.linear_model import LinearRegression\n",
    "from sklearn.metrics import mean_squared_error"
   ]
  },
  {
   "cell_type": "markdown",
   "id": "0d8edc0a",
   "metadata": {},
   "source": [
    "### Train the Model"
   ]
  },
  {
   "cell_type": "code",
   "execution_count": 21,
   "id": "9e5150bd",
   "metadata": {},
   "outputs": [
    {
     "data": {
      "text/html": [
       "<style>#sk-container-id-1 {color: black;}#sk-container-id-1 pre{padding: 0;}#sk-container-id-1 div.sk-toggleable {background-color: white;}#sk-container-id-1 label.sk-toggleable__label {cursor: pointer;display: block;width: 100%;margin-bottom: 0;padding: 0.3em;box-sizing: border-box;text-align: center;}#sk-container-id-1 label.sk-toggleable__label-arrow:before {content: \"▸\";float: left;margin-right: 0.25em;color: #696969;}#sk-container-id-1 label.sk-toggleable__label-arrow:hover:before {color: black;}#sk-container-id-1 div.sk-estimator:hover label.sk-toggleable__label-arrow:before {color: black;}#sk-container-id-1 div.sk-toggleable__content {max-height: 0;max-width: 0;overflow: hidden;text-align: left;background-color: #f0f8ff;}#sk-container-id-1 div.sk-toggleable__content pre {margin: 0.2em;color: black;border-radius: 0.25em;background-color: #f0f8ff;}#sk-container-id-1 input.sk-toggleable__control:checked~div.sk-toggleable__content {max-height: 200px;max-width: 100%;overflow: auto;}#sk-container-id-1 input.sk-toggleable__control:checked~label.sk-toggleable__label-arrow:before {content: \"▾\";}#sk-container-id-1 div.sk-estimator input.sk-toggleable__control:checked~label.sk-toggleable__label {background-color: #d4ebff;}#sk-container-id-1 div.sk-label input.sk-toggleable__control:checked~label.sk-toggleable__label {background-color: #d4ebff;}#sk-container-id-1 input.sk-hidden--visually {border: 0;clip: rect(1px 1px 1px 1px);clip: rect(1px, 1px, 1px, 1px);height: 1px;margin: -1px;overflow: hidden;padding: 0;position: absolute;width: 1px;}#sk-container-id-1 div.sk-estimator {font-family: monospace;background-color: #f0f8ff;border: 1px dotted black;border-radius: 0.25em;box-sizing: border-box;margin-bottom: 0.5em;}#sk-container-id-1 div.sk-estimator:hover {background-color: #d4ebff;}#sk-container-id-1 div.sk-parallel-item::after {content: \"\";width: 100%;border-bottom: 1px solid gray;flex-grow: 1;}#sk-container-id-1 div.sk-label:hover label.sk-toggleable__label {background-color: #d4ebff;}#sk-container-id-1 div.sk-serial::before {content: \"\";position: absolute;border-left: 1px solid gray;box-sizing: border-box;top: 0;bottom: 0;left: 50%;z-index: 0;}#sk-container-id-1 div.sk-serial {display: flex;flex-direction: column;align-items: center;background-color: white;padding-right: 0.2em;padding-left: 0.2em;position: relative;}#sk-container-id-1 div.sk-item {position: relative;z-index: 1;}#sk-container-id-1 div.sk-parallel {display: flex;align-items: stretch;justify-content: center;background-color: white;position: relative;}#sk-container-id-1 div.sk-item::before, #sk-container-id-1 div.sk-parallel-item::before {content: \"\";position: absolute;border-left: 1px solid gray;box-sizing: border-box;top: 0;bottom: 0;left: 50%;z-index: -1;}#sk-container-id-1 div.sk-parallel-item {display: flex;flex-direction: column;z-index: 1;position: relative;background-color: white;}#sk-container-id-1 div.sk-parallel-item:first-child::after {align-self: flex-end;width: 50%;}#sk-container-id-1 div.sk-parallel-item:last-child::after {align-self: flex-start;width: 50%;}#sk-container-id-1 div.sk-parallel-item:only-child::after {width: 0;}#sk-container-id-1 div.sk-dashed-wrapped {border: 1px dashed gray;margin: 0 0.4em 0.5em 0.4em;box-sizing: border-box;padding-bottom: 0.4em;background-color: white;}#sk-container-id-1 div.sk-label label {font-family: monospace;font-weight: bold;display: inline-block;line-height: 1.2em;}#sk-container-id-1 div.sk-label-container {text-align: center;}#sk-container-id-1 div.sk-container {/* jupyter's `normalize.less` sets `[hidden] { display: none; }` but bootstrap.min.css set `[hidden] { display: none !important; }` so we also need the `!important` here to be able to override the default hidden behavior on the sphinx rendered scikit-learn.org. See: https://github.com/scikit-learn/scikit-learn/issues/21755 */display: inline-block !important;position: relative;}#sk-container-id-1 div.sk-text-repr-fallback {display: none;}</style><div id=\"sk-container-id-1\" class=\"sk-top-container\"><div class=\"sk-text-repr-fallback\"><pre>LinearRegression()</pre><b>In a Jupyter environment, please rerun this cell to show the HTML representation or trust the notebook. <br />On GitHub, the HTML representation is unable to render, please try loading this page with nbviewer.org.</b></div><div class=\"sk-container\" hidden><div class=\"sk-item\"><div class=\"sk-estimator sk-toggleable\"><input class=\"sk-toggleable__control sk-hidden--visually\" id=\"sk-estimator-id-1\" type=\"checkbox\" checked><label for=\"sk-estimator-id-1\" class=\"sk-toggleable__label sk-toggleable__label-arrow\">LinearRegression</label><div class=\"sk-toggleable__content\"><pre>LinearRegression()</pre></div></div></div></div></div>"
      ],
      "text/plain": [
       "LinearRegression()"
      ]
     },
     "execution_count": 21,
     "metadata": {},
     "output_type": "execute_result"
    }
   ],
   "source": [
    "model = LinearRegression()\n",
    "model.fit(X_train, y_train)"
   ]
  },
  {
   "cell_type": "markdown",
   "id": "b68b5894",
   "metadata": {},
   "source": [
    "### Make Predictions"
   ]
  },
  {
   "cell_type": "code",
   "execution_count": 22,
   "id": "b521ec7f",
   "metadata": {},
   "outputs": [],
   "source": [
    "predictions = model.predict(X_test)"
   ]
  },
  {
   "cell_type": "code",
   "execution_count": 23,
   "id": "7c440a0d",
   "metadata": {},
   "outputs": [
    {
     "data": {
      "text/plain": [
       "array([ 47.94829201,  36.95250986,  15.83620786,  26.76586643,\n",
       "        82.24560712,   2.97561325,  89.00990459,  15.65198499,\n",
       "        11.78696636,  21.96305816,  18.25475304,  36.63004912,\n",
       "        11.008147  ,  11.62466982,  60.35398142,  13.63073008,\n",
       "         2.98581164,  27.84181534,  43.51400936,  11.47413586,\n",
       "        21.81542963,  39.92648334,  57.06108393,   3.43277497,\n",
       "        14.41366483,  21.65668542,  81.44192597,   8.79160639,\n",
       "        12.40000969,  13.29997474,  25.78175593, 145.55860031,\n",
       "        74.40166608,  41.14400229,  60.25588842,  11.56497277,\n",
       "        29.81336357,  70.92072774,  11.55785237,   6.98677252,\n",
       "         7.73002201,   4.48067146,  25.74520872,  58.2392823 ,\n",
       "        11.5470053 ,  38.18723618, 141.18789349,   8.37024905,\n",
       "       114.95112886,   4.65835585,  28.05637918,  57.43257158,\n",
       "        10.10799302,  11.97534566,  12.98242049, 101.88850218,\n",
       "        19.71911938,  55.01211206,   8.40972986,   7.22443433,\n",
       "        14.9657294 ,  61.20400028, 136.41190688,  12.99220725,\n",
       "        10.09653281,  13.73563607,  11.13970246, 105.33220013,\n",
       "        15.42414358,  11.89975451,  59.92287639,  12.93045923,\n",
       "        13.05767682,  11.07117105,   2.58913338,   4.89243703,\n",
       "        40.1329983 ,  13.75203293,  13.48149913,  37.55955885,\n",
       "        16.85133656,  61.1916795 ,  40.88871549,  64.50807107,\n",
       "        16.804935  , 110.65073611,  97.9034402 ,  14.46072374,\n",
       "       122.72160001,  59.67545452,  11.922442  ,  54.53657503,\n",
       "        37.05902656,  10.07803685,  75.30771665,  10.08718158,\n",
       "        15.28561635,  10.75977529,  28.03714101,  61.10926506,\n",
       "         9.89551451,   5.669961  ,   7.60562095,  13.63412848,\n",
       "       104.17400635,  15.24682344,  22.0144213 ,  29.40001243,\n",
       "         7.45546576,  11.06736811,  20.98504391,   9.77794588,\n",
       "        13.26012576,  15.66854666,  27.75588725,  38.4530541 ,\n",
       "        17.8010324 ,  12.97406669,   3.28543157,  95.92195828,\n",
       "        11.36435655,  16.90398209,  15.43380056,  12.25717268,\n",
       "        27.76559552,  40.0936118 , 141.82482959,   8.98821212,\n",
       "        14.93209972,   7.32848133,  10.97681676,  52.32962651,\n",
       "        12.81073092,  10.21113415,  52.98009703,  11.94788836,\n",
       "       136.52280737,   9.93372335,  18.82454461,  58.90073325,\n",
       "         9.30708006,  22.10351085,  38.74009523,  14.15177248,\n",
       "        63.59551508,  58.59957208,  17.2585217 ,  29.58883723,\n",
       "        68.33463027,  27.81479756, 128.14507964,  67.49049584,\n",
       "         6.71879743,  27.17971884,  25.7396926 ,  13.09167301,\n",
       "         2.52202469,  62.72116204,  14.05509108,   9.672227  ,\n",
       "        38.2799405 ,  17.42297812,  41.14554505,  51.27261853,\n",
       "        46.39201941,  10.36371556,  58.3176727 ,   8.77331598,\n",
       "        13.89874284,  37.96637392,  10.18713098, 129.90847745,\n",
       "         9.9175886 ,  40.75512208,  29.55848157, 149.96363755,\n",
       "         9.99417127,  12.65283415,  14.79331979,   8.98772881,\n",
       "        33.25923813,   4.60054382,  18.30802681,   7.04116154,\n",
       "       120.81269975, 142.5021646 ,  11.93354726,  77.76547193,\n",
       "        63.55962725,  46.97750811,  39.74810292,  15.08959275,\n",
       "        13.24703369,  12.15531499, 112.84987831,  37.01572145,\n",
       "         9.58502239,  47.29325279, 122.21799435, 112.51561234,\n",
       "        32.50064529,  49.35216376,  50.05896428,  38.88631199,\n",
       "        20.33959666,   9.49058133,  10.27151067,  26.78557159,\n",
       "       102.0875782 ,  12.03582474,  25.71794889,  53.39233004,\n",
       "        58.82469675,   8.11052477,  38.99431799,  28.28744471,\n",
       "        12.46957586,   9.74551968,  32.85341006,   9.98664796,\n",
       "        17.24006447,  73.29829976,  76.65498237,  52.55892187,\n",
       "        12.82165492,   4.75192531,  55.38473428,  12.66457787,\n",
       "        37.16725008,  22.21702127, 136.66770977,  20.34448741,\n",
       "        52.03882355,  22.20421037,  12.03707055,  35.64234956,\n",
       "        17.83988239,  61.05226615,  28.32972381,  23.08305584,\n",
       "        14.66169716,  14.39601422,  28.24149816,  17.20303917,\n",
       "        63.36366535,  26.3804948 ,   4.32949549,  42.23937805,\n",
       "        11.53302291,  37.43382498,  16.11089946,  16.87122163,\n",
       "         4.44711096,  28.45267715,  46.49994882,  12.83572223,\n",
       "        80.12721649,  55.51106585,   8.57344473,  30.05799369,\n",
       "         4.88646666,  75.72087178,  11.66571928,  11.51087012,\n",
       "         7.52615137,  53.9550565 ,  14.67791991,  15.74755559,\n",
       "        11.68994414, 115.74121206,  12.0935355 ,  75.14824076,\n",
       "        13.00199098,  15.53878123,  18.009504  ,   4.73592132,\n",
       "        11.19738585,  13.45820006,   4.81258185,  75.36660168,\n",
       "        76.36150189,  15.02182288,  15.59381274,  38.32203483,\n",
       "        10.58258733,   4.66062754,  10.26794275,  15.18124476,\n",
       "        27.15077998,  11.05541697, 134.78751854,  27.95386684,\n",
       "        54.77965749,  48.32244816,  58.24918421,   2.77182905,\n",
       "       140.52424156,  19.60310267,   8.12288486,  16.86641753,\n",
       "        14.82542811,  11.71029069,  56.74300762,  38.04453464,\n",
       "         4.78087196,  44.42012273, 137.38157707,  12.88435274,\n",
       "        60.34859492,  13.50208431,  41.34890702,  46.38683436,\n",
       "         9.5074855 ,  22.0344351 ,  64.65989378,  13.09495278,\n",
       "        28.08350501,  64.75393719,   8.87048171, 118.46765242,\n",
       "       142.03024702,  10.26157447,  28.79927422,  98.67211129,\n",
       "        11.96777798,  26.93687935,   7.75458008, 114.68279746,\n",
       "        26.20138221, 117.63149828,  29.58745258,   4.86516626,\n",
       "        74.23205252,  32.96598294,  25.45245297,  26.33311022,\n",
       "         8.88848918,  46.73916935,  87.27878531,  73.78055548,\n",
       "        28.87738163,   8.69697667,   9.42732991,  17.01988464,\n",
       "        50.31497559,  40.51758416,  55.69767312,   8.36153029,\n",
       "        38.95122124, 140.0333261 ,  55.78975594,  75.21228292,\n",
       "        40.5939405 ,  98.02888284,  14.45534978,  32.47936935,\n",
       "        29.82559834,  17.11319027,  11.50525639,  40.2344603 ,\n",
       "        14.87171912,  53.19684047,  26.82448686,  15.36583965,\n",
       "        39.88020683,   5.67728248,  10.61893541, 111.78089759,\n",
       "        43.51693852,   4.43076413,  11.57356367,   5.48100857,\n",
       "        26.29414154,   7.83407089,  53.54966637,   4.34056292,\n",
       "        27.24624944,  11.7712987 ,  29.43896588,  41.66026462,\n",
       "        12.15788335,  47.98975688,  11.14125927,  29.77460306,\n",
       "        13.01471718, 121.61627063,  13.11688174,  14.89717058,\n",
       "        13.23588403,   9.55634892,  12.28978523, 134.94605056,\n",
       "        14.50357811,   8.10400655,  72.20303442,   4.50475149,\n",
       "        27.64726485,  10.50254028,  17.40733585,  38.06077766,\n",
       "        14.40586304,  14.53787504,  49.28820857,  22.64279207,\n",
       "        53.58178817,  16.31012922,   6.33590013,  16.13118977,\n",
       "        62.86211924, 139.09986051,  52.46823263,  78.15359156,\n",
       "        13.88161504, 111.61199534,  64.33143468,  10.64031138,\n",
       "        11.86078694,  73.27534747,   9.88268599,   9.20389146,\n",
       "       122.07310666,  15.58884899,  12.99774468,  10.30720271,\n",
       "        42.60705081,  20.26103679,  75.96235161,   2.87125924,\n",
       "        37.2990848 ,  58.37786017,  46.11586037, 116.35644113,\n",
       "        21.89905541,  11.685389  ,  28.73336138,  34.26248745,\n",
       "        14.10185284,  10.45969794,  14.37555082,  28.08756129,\n",
       "        26.57991448,   7.55596239,  29.2839626 ,  15.20925663,\n",
       "        59.42425516,  86.8643802 ,   4.51277394,   7.12387736,\n",
       "        52.789393  ,  14.5560538 ,  19.65098679,  63.02168311,\n",
       "       116.08652924,  10.60873248,  28.47594493,  14.51381995,\n",
       "       117.94991259, 109.83678636,  28.93013709,  56.46643034,\n",
       "        12.95712447,  69.1078383 ,  28.48343826,  11.31111653,\n",
       "         4.64693292,   8.54739231, 114.47048557,  26.56944524,\n",
       "         7.37218159,  52.3869859 ,  10.09962352,  15.23210636,\n",
       "        14.62520637,  47.42499102,  12.85664554,  36.71690272,\n",
       "         7.49608219,  27.28951968,  57.74608266,  12.6248674 ,\n",
       "        37.92817362,   7.40595078, 134.67553806, 129.75318864,\n",
       "        53.98189174,  11.88157632,  27.32652653,  15.98569071,\n",
       "        10.12559145,  16.23698329,  59.82612566,  10.24134492,\n",
       "        41.97650466, 113.31126707,   6.93381037,  33.93775897,\n",
       "        15.18922047,  42.69992648,  15.41712261,  54.2087687 ,\n",
       "        42.04965116,   9.92487128,  26.58857591,  10.12195757,\n",
       "        28.97879726,  72.51323177,  42.5856154 ,  51.64131838,\n",
       "        89.59703721,  78.79293975,   4.89161024,  52.32593277,\n",
       "        74.89672783,   4.54041805,  99.73525871,  18.29394004,\n",
       "         9.13981742,  39.7995944 ,  29.57549491,   8.36004074,\n",
       "        10.03101618,  35.53740273,  12.6221117 , 129.10514651,\n",
       "        33.87605556,   8.98883452,  10.47187643,  41.30869537,\n",
       "        56.38422636, 147.88234188,  52.47594529, 107.91927345,\n",
       "         4.49849085,  22.64007173,  11.96782528,  22.22040286,\n",
       "        27.55837779,   9.60627575, 120.49506229,   7.30547027,\n",
       "        14.96992603,  28.00903243,  17.4354035 ,  65.03191784,\n",
       "        18.06726231,  78.22171808,  15.58114314,  47.08206997,\n",
       "        82.02949444,  55.06031532,  14.50368621,  19.70493997,\n",
       "        28.84334071,  14.56692824,  47.49922849,  55.48990269,\n",
       "        55.67069059,  15.5638126 ,   4.89047745,  35.87784232,\n",
       "        18.91273026,   6.38935423,   7.90745299,  13.26211143,\n",
       "        28.79834117,  59.55131793,  13.18068787,  69.77828135,\n",
       "        11.70048814,  14.08282633,  27.3368847 , 114.76385195,\n",
       "       132.21689158,  28.21838687,  61.8527692 ,  59.95856738,\n",
       "        51.26896526,  16.7882268 ,  11.31291361,   4.66881587,\n",
       "       142.25614125,  40.54922395,  16.45627477,  36.02973106,\n",
       "        15.04055638,   4.91261468,  88.11851024,  81.20559015,\n",
       "        17.59635204, 143.01818045,   4.27695955,  14.54325067,\n",
       "        15.17082856,  77.81162811,   4.51908113,  22.28296293,\n",
       "        20.37691109,  16.02135281,  51.99489858,  27.85748003,\n",
       "        14.22568295,  27.5690717 ,  40.63454201,  29.3697172 ,\n",
       "        26.60022939,  60.71081457,  14.163884  ,  58.77511146,\n",
       "        16.68507713,   9.78315565,  26.06367539,  71.82781819,\n",
       "        15.13818563,   9.0230983 ,  14.48461919, 112.78686644,\n",
       "        58.85673719,   9.46433059,  14.64125582,   5.75676154,\n",
       "         7.03040432,  10.24219824,  26.39442311,  21.26165686,\n",
       "       102.49154666,   9.53328833,  55.2592474 ,   4.960131  ,\n",
       "        61.21486804, 146.67717781,  22.49748036, 149.3835572 ,\n",
       "        14.61906717,  16.68530291,   7.19805775, 113.97011529,\n",
       "         4.50056958,  11.87197287,  11.40642318,   8.64042043,\n",
       "        14.30165326,  17.47967399,  20.42463589,  50.48114189,\n",
       "        29.09252501,  68.20268546,  15.12515392,  12.91862922,\n",
       "        30.04538321,   5.69854979,  17.25674808,   9.83049132,\n",
       "         7.70168409,  58.81860024,  11.60357632,  60.65575565,\n",
       "        10.64446519,   5.98096457,  26.61452846,  15.24329289,\n",
       "         7.92634551,   9.98062868,  15.35776263,   7.65029838,\n",
       "       148.02897374,  53.34226964,  12.57512028,  52.09517709,\n",
       "        41.27272236,   4.65662899,  60.39987589,  10.00554136,\n",
       "        14.12191994,   7.35664015, 136.50616256,  58.59587877,\n",
       "        10.00644579,  65.88269371,  68.13481833,   9.78879581,\n",
       "        28.34185408,  11.64831614,  12.13346688,  49.12006378,\n",
       "        13.02630106,  52.46480943,  13.73527525,  14.04769077,\n",
       "         9.13646107,  27.31583402,  69.81348032, 138.93637119,\n",
       "        12.46781506,  11.37993811,  86.03812256, 146.10610296,\n",
       "        53.97499897,  11.3858876 ,   9.07194673,   6.54197257,\n",
       "        51.62473281,  13.39580038,   9.85950138,  29.8138027 ,\n",
       "        55.65984197,  15.11307149,  14.48372384,  47.37863688,\n",
       "         4.86633752,  27.77273956,  14.10684559,   4.81872076,\n",
       "         9.76941203,   9.87215439,  27.38588684,  15.44069018,\n",
       "        15.39729568,  13.17877519,  15.31263472,  62.12803335,\n",
       "       116.54068291, 144.65982373,  71.58802812,  13.94105617,\n",
       "        17.66862534,  21.78451143,  36.28199146,  53.15311067,\n",
       "       133.51948025,  64.36352316,  35.68278361, 117.13229405,\n",
       "        49.54575557,  13.70382418,  15.17157297,  58.63762415,\n",
       "        42.52983565,  50.50029382,  74.67372957,   9.49707346,\n",
       "        72.31972038, 137.09832016,  14.26081598,  12.26780955,\n",
       "        12.6380236 ,  46.4954952 ,   9.41348395,  22.56846777,\n",
       "        12.20256624,  48.1895508 ,   6.88429463,  14.11585839,\n",
       "         9.49292769,  42.56132233,  15.22859302,   4.51170003,\n",
       "        14.81066492,  28.96813172,  11.74623427,  29.40205579,\n",
       "        55.26797865, 113.82954168,  12.09390579,  31.23940864,\n",
       "        53.73619407,  14.87329923,  18.46960195,  10.58070594,\n",
       "        12.73336368,   9.3654904 ,  11.70065157,  28.57176053,\n",
       "        14.28574686,  28.02316472, 110.89606946,  37.84181651,\n",
       "        26.74287905,  15.68171069,  12.40960939,  12.03477667,\n",
       "        12.23961543,  12.10455968,  27.72100204,  29.34740965,\n",
       "        11.9942658 ,   8.11520831,  10.70240306,  34.56009947,\n",
       "        25.38354847,  13.14907915,  10.98912752,  15.16107313,\n",
       "        11.32574139,  10.75011262,  54.2809056 ,  17.17888232,\n",
       "        38.43022628, 143.03064746,   8.77458454,  12.9767617 ,\n",
       "        12.3348126 ,  37.68933781,  15.41339843,  11.81600565,\n",
       "       146.94182177,  39.7765818 ,   6.39806495,  13.90847364,\n",
       "        22.38910427,  10.29845028,  10.9129158 ,  12.78767557,\n",
       "        13.06377193,  14.64094282,  25.23191319,  74.18417204,\n",
       "       109.45321754,  15.06183247,  44.39899494, 140.06626567,\n",
       "        73.29198132,  35.28607349, 100.71950098,  27.2557803 ,\n",
       "        18.39435651,  61.81312364,  11.65079161, 110.21603095,\n",
       "         9.43295197,  28.54259022,  14.96325919,  86.1431554 ,\n",
       "        46.99061949,   9.70011544,  11.69238056,  95.15047748,\n",
       "        11.33384507,  39.81522348,  13.9061772 ,   2.5406641 ,\n",
       "        59.64311195,  75.10584339,  14.7989924 ,  12.22314557,\n",
       "        29.4291069 ,  62.04271254,  11.07152511,  10.69050128,\n",
       "        15.46781513, 136.08098069,  12.50811965,   8.49893518,\n",
       "       105.16500328, 124.0917469 ,  14.52804772,  16.92438276,\n",
       "        50.2460963 ,  12.47808858,  40.10336696,  39.53387583,\n",
       "        49.73548851,  55.98402191, 107.11000695,  57.76662421,\n",
       "        29.21776968,  25.49539319,   9.64297829,  42.79458806,\n",
       "        13.32044515,  11.60923593,  14.42508531,  59.39158374,\n",
       "        28.55390035,  17.47356447,  93.92023115,  43.00894388,\n",
       "        53.8862403 ,   9.43072316,   8.5313811 ,   8.30525762,\n",
       "        22.27641487,  21.88430771,  74.87125204,  37.9922463 ,\n",
       "       135.53375183,  35.07693364,  96.45387191,  59.90207839,\n",
       "        14.31922011,  36.21190726,  36.03583521,  25.88141833,\n",
       "        39.83389042,  81.27008005,  10.14123006,  27.9943667 ,\n",
       "        91.87691547,  14.53728129,  30.51188862, 101.06786624,\n",
       "        13.89153114,  16.93293876,  21.8525805 , 116.98486618,\n",
       "       147.50727445, 120.27760025,  12.48479732,  19.3003796 ,\n",
       "        29.80346507, 133.67019299,  22.32659063,   4.61589688,\n",
       "        29.61770184,  55.8438152 ,  53.73740658,  11.35777733,\n",
       "        27.59920613,  12.27676173,  22.36955206])"
      ]
     },
     "execution_count": 23,
     "metadata": {},
     "output_type": "execute_result"
    }
   ],
   "source": [
    "predictions"
   ]
  },
  {
   "cell_type": "markdown",
   "id": "14a54399",
   "metadata": {},
   "source": [
    "### Plot Graph for Predictions and Actual Closing Prices"
   ]
  },
  {
   "cell_type": "code",
   "execution_count": 24,
   "id": "fca7a97d",
   "metadata": {},
   "outputs": [
    {
     "data": {
      "image/png": "[encoded data removed]",
      "text/plain": [
       "<Figure size 640x480 with 1 Axes>"
      ]
     },
     "metadata": {},
     "output_type": "display_data"
    }
   ],
   "source": [
    "sorted_indices = y_test.index.argsort()\n",
    "\n",
    "plt.plot(y_test.index[sorted_indices], y_test.values[sorted_indices], label='Actual Closing Price', color='red', linewidth=2)\n",
    "plt.plot(y_test.index[sorted_indices], predictions[sorted_indices], label='Predicted Closing Price', color='blue', linewidth=2)\n",
    "plt.xlabel(\"Date\")\n",
    "plt.ylabel(\"Closing Price\")\n",
    "plt.title(\"Actual vs. Predicted Closing Prices\")\n",
    "\n",
    "plt.legend()\n",
    "\n",
    "plt.show()"
   ]
  },
  {
   "cell_type": "markdown",
   "id": "114d88e2",
   "metadata": {},
   "source": [
    "### Evaluate model with MSE and RMSE"
   ]
  },
  {
   "cell_type": "code",
   "execution_count": 25,
   "id": "057a0251",
   "metadata": {
    "scrolled": true
   },
   "outputs": [
    {
     "name": "stdout",
     "output_type": "stream",
     "text": [
      "\n",
      "Model Evaluation:\n",
      "Mean Squared Error: 0.11200727150172445\n",
      "Root Mean Squared Error : 0.33467487432092125\n"
     ]
    }
   ],
   "source": [
    "mse = mean_squared_error(y_test, predictions)\n",
    "rmse = np.sqrt(mse)\n",
    "print(\"\\nModel Evaluation:\")\n",
    "print(f\"Mean Squared Error: {mse}\")\n",
    "print(f\"Root Mean Squared Error : {rmse}\")"
   ]
  },
  {
   "cell_type": "markdown",
   "id": "a7769d86",
   "metadata": {},
   "source": [
    "## Get new stock data from 2022-11-15 to 2023-11-14"
   ]
  },
  {
   "cell_type": "code",
   "execution_count": 26,
   "id": "c67273e7",
   "metadata": {},
   "outputs": [],
   "source": [
    "new_stock_data = yf.Ticker(ticker_symbol).history(start='2022-11-15', end='2023-11-14')"
   ]
  },
  {
   "cell_type": "code",
   "execution_count": 27,
   "id": "9169444f",
   "metadata": {},
   "outputs": [],
   "source": [
    "new_stock_data.drop(columns=['Stock Splits'], inplace=True)\n",
    "new_stock_data.drop(columns=['Dividends'], inplace=True)"
   ]
  },
  {
   "cell_type": "code",
   "execution_count": 28,
   "id": "282829f3",
   "metadata": {},
   "outputs": [
    {
     "data": {
      "text/html": [
       "<div>\n",
       "<style scoped>\n",
       "    .dataframe tbody tr th:only-of-type {\n",
       "        vertical-align: middle;\n",
       "    }\n",
       "\n",
       "    .dataframe tbody tr th {\n",
       "        vertical-align: top;\n",
       "    }\n",
       "\n",
       "    .dataframe thead th {\n",
       "        text-align: right;\n",
       "    }\n",
       "</style>\n",
       "<table border=\"1\" class=\"dataframe\">\n",
       "  <thead>\n",
       "    <tr style=\"text-align: right;\">\n",
       "      <th></th>\n",
       "      <th>Open</th>\n",
       "      <th>High</th>\n",
       "      <th>Low</th>\n",
       "      <th>Close</th>\n",
       "      <th>Volume</th>\n",
       "    </tr>\n",
       "    <tr>\n",
       "      <th>Date</th>\n",
       "      <th></th>\n",
       "      <th></th>\n",
       "      <th></th>\n",
       "      <th></th>\n",
       "      <th></th>\n",
       "    </tr>\n",
       "  </thead>\n",
       "  <tbody>\n",
       "    <tr>\n",
       "      <th>2022-11-15 00:00:00-05:00</th>\n",
       "      <td>98.260002</td>\n",
       "      <td>100.139999</td>\n",
       "      <td>96.709999</td>\n",
       "      <td>98.440002</td>\n",
       "      <td>41640800</td>\n",
       "    </tr>\n",
       "    <tr>\n",
       "      <th>2022-11-16 00:00:00-05:00</th>\n",
       "      <td>97.900002</td>\n",
       "      <td>99.639999</td>\n",
       "      <td>97.639999</td>\n",
       "      <td>98.849998</td>\n",
       "      <td>29105200</td>\n",
       "    </tr>\n",
       "    <tr>\n",
       "      <th>2022-11-17 00:00:00-05:00</th>\n",
       "      <td>96.970001</td>\n",
       "      <td>99.279999</td>\n",
       "      <td>96.790001</td>\n",
       "      <td>98.360001</td>\n",
       "      <td>26052600</td>\n",
       "    </tr>\n",
       "    <tr>\n",
       "      <th>2022-11-18 00:00:00-05:00</th>\n",
       "      <td>98.769997</td>\n",
       "      <td>98.900002</td>\n",
       "      <td>96.370003</td>\n",
       "      <td>97.430000</td>\n",
       "      <td>28342300</td>\n",
       "    </tr>\n",
       "    <tr>\n",
       "      <th>2022-11-21 00:00:00-05:00</th>\n",
       "      <td>97.290001</td>\n",
       "      <td>98.400002</td>\n",
       "      <td>95.360001</td>\n",
       "      <td>95.599998</td>\n",
       "      <td>21647400</td>\n",
       "    </tr>\n",
       "    <tr>\n",
       "      <th>...</th>\n",
       "      <td>...</td>\n",
       "      <td>...</td>\n",
       "      <td>...</td>\n",
       "      <td>...</td>\n",
       "      <td>...</td>\n",
       "    </tr>\n",
       "    <tr>\n",
       "      <th>2023-11-07 00:00:00-05:00</th>\n",
       "      <td>130.710007</td>\n",
       "      <td>131.910004</td>\n",
       "      <td>129.880005</td>\n",
       "      <td>130.970001</td>\n",
       "      <td>29757300</td>\n",
       "    </tr>\n",
       "    <tr>\n",
       "      <th>2023-11-08 00:00:00-05:00</th>\n",
       "      <td>130.970001</td>\n",
       "      <td>132.210007</td>\n",
       "      <td>130.779999</td>\n",
       "      <td>131.839996</td>\n",
       "      <td>26425800</td>\n",
       "    </tr>\n",
       "    <tr>\n",
       "      <th>2023-11-09 00:00:00-05:00</th>\n",
       "      <td>131.960007</td>\n",
       "      <td>132.550003</td>\n",
       "      <td>130.070007</td>\n",
       "      <td>130.240005</td>\n",
       "      <td>23747800</td>\n",
       "    </tr>\n",
       "    <tr>\n",
       "      <th>2023-11-10 00:00:00-05:00</th>\n",
       "      <td>130.100006</td>\n",
       "      <td>132.800003</td>\n",
       "      <td>129.410004</td>\n",
       "      <td>132.589996</td>\n",
       "      <td>26913300</td>\n",
       "    </tr>\n",
       "    <tr>\n",
       "      <th>2023-11-13 00:00:00-05:00</th>\n",
       "      <td>131.779999</td>\n",
       "      <td>132.589996</td>\n",
       "      <td>131.250000</td>\n",
       "      <td>132.089996</td>\n",
       "      <td>18324800</td>\n",
       "    </tr>\n",
       "  </tbody>\n",
       "</table>\n",
       "<p>250 rows × 5 columns</p>\n",
       "</div>"
      ],
      "text/plain": [
       "                                 Open        High         Low       Close  \\\n",
       "Date                                                                        \n",
       "2022-11-15 00:00:00-05:00   98.260002  100.139999   96.709999   98.440002   \n",
       "2022-11-16 00:00:00-05:00   97.900002   99.639999   97.639999   98.849998   \n",
       "2022-11-17 00:00:00-05:00   96.970001   99.279999   96.790001   98.360001   \n",
       "2022-11-18 00:00:00-05:00   98.769997   98.900002   96.370003   97.430000   \n",
       "2022-11-21 00:00:00-05:00   97.290001   98.400002   95.360001   95.599998   \n",
       "...                               ...         ...         ...         ...   \n",
       "2023-11-07 00:00:00-05:00  130.710007  131.910004  129.880005  130.970001   \n",
       "2023-11-08 00:00:00-05:00  130.970001  132.210007  130.779999  131.839996   \n",
       "2023-11-09 00:00:00-05:00  131.960007  132.550003  130.070007  130.240005   \n",
       "2023-11-10 00:00:00-05:00  130.100006  132.800003  129.410004  132.589996   \n",
       "2023-11-13 00:00:00-05:00  131.779999  132.589996  131.250000  132.089996   \n",
       "\n",
       "                             Volume  \n",
       "Date                                 \n",
       "2022-11-15 00:00:00-05:00  41640800  \n",
       "2022-11-16 00:00:00-05:00  29105200  \n",
       "2022-11-17 00:00:00-05:00  26052600  \n",
       "2022-11-18 00:00:00-05:00  28342300  \n",
       "2022-11-21 00:00:00-05:00  21647400  \n",
       "...                             ...  \n",
       "2023-11-07 00:00:00-05:00  29757300  \n",
       "2023-11-08 00:00:00-05:00  26425800  \n",
       "2023-11-09 00:00:00-05:00  23747800  \n",
       "2023-11-10 00:00:00-05:00  26913300  \n",
       "2023-11-13 00:00:00-05:00  18324800  \n",
       "\n",
       "[250 rows x 5 columns]"
      ]
     },
     "execution_count": 28,
     "metadata": {},
     "output_type": "execute_result"
    }
   ],
   "source": [
    "new_stock_data"
   ]
  },
  {
   "cell_type": "markdown",
   "id": "20e67b82",
   "metadata": {},
   "source": [
    "### Split the data into Features and Target for new_stock_data"
   ]
  },
  {
   "cell_type": "code",
   "execution_count": 29,
   "id": "deb574a1",
   "metadata": {},
   "outputs": [],
   "source": [
    "X_new = new_stock_data[['Open', 'High', 'Low', 'Volume']]\n",
    "y_new = new_stock_data['Close']"
   ]
  },
  {
   "cell_type": "code",
   "execution_count": 30,
   "id": "8f621148",
   "metadata": {},
   "outputs": [
    {
     "data": {
      "text/html": [
       "<div>\n",
       "<style scoped>\n",
       "    .dataframe tbody tr th:only-of-type {\n",
       "        vertical-align: middle;\n",
       "    }\n",
       "\n",
       "    .dataframe tbody tr th {\n",
       "        vertical-align: top;\n",
       "    }\n",
       "\n",
       "    .dataframe thead th {\n",
       "        text-align: right;\n",
       "    }\n",
       "</style>\n",
       "<table border=\"1\" class=\"dataframe\">\n",
       "  <thead>\n",
       "    <tr style=\"text-align: right;\">\n",
       "      <th></th>\n",
       "      <th>Open</th>\n",
       "      <th>High</th>\n",
       "      <th>Low</th>\n",
       "      <th>Volume</th>\n",
       "    </tr>\n",
       "    <tr>\n",
       "      <th>Date</th>\n",
       "      <th></th>\n",
       "      <th></th>\n",
       "      <th></th>\n",
       "      <th></th>\n",
       "    </tr>\n",
       "  </thead>\n",
       "  <tbody>\n",
       "    <tr>\n",
       "      <th>2022-11-15 00:00:00-05:00</th>\n",
       "      <td>98.260002</td>\n",
       "      <td>100.139999</td>\n",
       "      <td>96.709999</td>\n",
       "      <td>41640800</td>\n",
       "    </tr>\n",
       "    <tr>\n",
       "      <th>2022-11-16 00:00:00-05:00</th>\n",
       "      <td>97.900002</td>\n",
       "      <td>99.639999</td>\n",
       "      <td>97.639999</td>\n",
       "      <td>29105200</td>\n",
       "    </tr>\n",
       "    <tr>\n",
       "      <th>2022-11-17 00:00:00-05:00</th>\n",
       "      <td>96.970001</td>\n",
       "      <td>99.279999</td>\n",
       "      <td>96.790001</td>\n",
       "      <td>26052600</td>\n",
       "    </tr>\n",
       "    <tr>\n",
       "      <th>2022-11-18 00:00:00-05:00</th>\n",
       "      <td>98.769997</td>\n",
       "      <td>98.900002</td>\n",
       "      <td>96.370003</td>\n",
       "      <td>28342300</td>\n",
       "    </tr>\n",
       "    <tr>\n",
       "      <th>2022-11-21 00:00:00-05:00</th>\n",
       "      <td>97.290001</td>\n",
       "      <td>98.400002</td>\n",
       "      <td>95.360001</td>\n",
       "      <td>21647400</td>\n",
       "    </tr>\n",
       "    <tr>\n",
       "      <th>...</th>\n",
       "      <td>...</td>\n",
       "      <td>...</td>\n",
       "      <td>...</td>\n",
       "      <td>...</td>\n",
       "    </tr>\n",
       "    <tr>\n",
       "      <th>2023-11-07 00:00:00-05:00</th>\n",
       "      <td>130.710007</td>\n",
       "      <td>131.910004</td>\n",
       "      <td>129.880005</td>\n",
       "      <td>29757300</td>\n",
       "    </tr>\n",
       "    <tr>\n",
       "      <th>2023-11-08 00:00:00-05:00</th>\n",
       "      <td>130.970001</td>\n",
       "      <td>132.210007</td>\n",
       "      <td>130.779999</td>\n",
       "      <td>26425800</td>\n",
       "    </tr>\n",
       "    <tr>\n",
       "      <th>2023-11-09 00:00:00-05:00</th>\n",
       "      <td>131.960007</td>\n",
       "      <td>132.550003</td>\n",
       "      <td>130.070007</td>\n",
       "      <td>23747800</td>\n",
       "    </tr>\n",
       "    <tr>\n",
       "      <th>2023-11-10 00:00:00-05:00</th>\n",
       "      <td>130.100006</td>\n",
       "      <td>132.800003</td>\n",
       "      <td>129.410004</td>\n",
       "      <td>26913300</td>\n",
       "    </tr>\n",
       "    <tr>\n",
       "      <th>2023-11-13 00:00:00-05:00</th>\n",
       "      <td>131.779999</td>\n",
       "      <td>132.589996</td>\n",
       "      <td>131.250000</td>\n",
       "      <td>18324800</td>\n",
       "    </tr>\n",
       "  </tbody>\n",
       "</table>\n",
       "<p>250 rows × 4 columns</p>\n",
       "</div>"
      ],
      "text/plain": [
       "                                 Open        High         Low    Volume\n",
       "Date                                                                   \n",
       "2022-11-15 00:00:00-05:00   98.260002  100.139999   96.709999  41640800\n",
       "2022-11-16 00:00:00-05:00   97.900002   99.639999   97.639999  29105200\n",
       "2022-11-17 00:00:00-05:00   96.970001   99.279999   96.790001  26052600\n",
       "2022-11-18 00:00:00-05:00   98.769997   98.900002   96.370003  28342300\n",
       "2022-11-21 00:00:00-05:00   97.290001   98.400002   95.360001  21647400\n",
       "...                               ...         ...         ...       ...\n",
       "2023-11-07 00:00:00-05:00  130.710007  131.910004  129.880005  29757300\n",
       "2023-11-08 00:00:00-05:00  130.970001  132.210007  130.779999  26425800\n",
       "2023-11-09 00:00:00-05:00  131.960007  132.550003  130.070007  23747800\n",
       "2023-11-10 00:00:00-05:00  130.100006  132.800003  129.410004  26913300\n",
       "2023-11-13 00:00:00-05:00  131.779999  132.589996  131.250000  18324800\n",
       "\n",
       "[250 rows x 4 columns]"
      ]
     },
     "execution_count": 30,
     "metadata": {},
     "output_type": "execute_result"
    }
   ],
   "source": [
    "X_new"
   ]
  },
  {
   "cell_type": "code",
   "execution_count": 31,
   "id": "973a95db",
   "metadata": {},
   "outputs": [
    {
     "data": {
      "text/plain": [
       "Date\n",
       "2022-11-15 00:00:00-05:00     98.440002\n",
       "2022-11-16 00:00:00-05:00     98.849998\n",
       "2022-11-17 00:00:00-05:00     98.360001\n",
       "2022-11-18 00:00:00-05:00     97.430000\n",
       "2022-11-21 00:00:00-05:00     95.599998\n",
       "                                ...    \n",
       "2023-11-07 00:00:00-05:00    130.970001\n",
       "2023-11-08 00:00:00-05:00    131.839996\n",
       "2023-11-09 00:00:00-05:00    130.240005\n",
       "2023-11-10 00:00:00-05:00    132.589996\n",
       "2023-11-13 00:00:00-05:00    132.089996\n",
       "Name: Close, Length: 250, dtype: float64"
      ]
     },
     "execution_count": 31,
     "metadata": {},
     "output_type": "execute_result"
    }
   ],
   "source": [
    "y_new"
   ]
  },
  {
   "cell_type": "markdown",
   "id": "53dc3187",
   "metadata": {},
   "source": [
    "### Make new predictions"
   ]
  },
  {
   "cell_type": "code",
   "execution_count": 32,
   "id": "98e64d42",
   "metadata": {},
   "outputs": [],
   "source": [
    "new_prediction = model.predict(X_new)"
   ]
  },
  {
   "cell_type": "code",
   "execution_count": 33,
   "id": "26193fb8",
   "metadata": {},
   "outputs": [
    {
     "data": {
      "text/plain": [
       "array([ 98.54886939,  99.15278473,  98.75323633,  96.92379899,\n",
       "        96.63371415,  95.44836517,  98.50261269,  97.91707278,\n",
       "        96.33740263,  94.74574453,  99.60186391, 101.43294368,\n",
       "       100.37900276, 100.73195138,  97.33784568,  95.4327919 ,\n",
       "        93.98183347,  93.36764617,  92.5333377 ,  96.97280943,\n",
       "        95.27441193,  90.9885072 ,  90.2374723 ,  88.84022915,\n",
       "        88.46938492,  89.42167694,  86.97976072,  89.11085843,\n",
       "        87.46644196,  87.02138138,  88.47468691,  87.75964303,\n",
       "        89.93342031,  88.06945123,  86.28707945,  85.95728013,\n",
       "        89.36643893,  88.09191188,  91.05703791,  90.40161312,\n",
       "        91.38889633,  90.58507631,  91.47402456,  93.04744496,\n",
       "        97.69067187,  99.32904815,  98.63074376,  94.58982778,\n",
       "        96.48775598,  99.81384431,  97.28999954,  98.51759149,\n",
       "        99.83863376, 107.36809822, 106.66703062, 103.61700345,\n",
       "       107.23118016,  99.64191429,  94.75545251,  95.55774481,\n",
       "        94.4141391 ,  93.00998985,  96.39888097,  96.77637333,\n",
       "        94.10918392,  92.06241978,  91.17292239,  90.18126741,\n",
       "        89.13655211,  89.71226505,  90.91747511,  90.62500874,\n",
       "        91.78373398,  93.52321806,  95.64232629,  94.38172961,\n",
       "        95.56924048,  93.50941816,  91.24584845,  91.59853707,\n",
       "        93.97586358,  95.80695823,  99.73051072, 102.28171587,\n",
       "       101.29277903, 104.41483466, 105.43014373, 105.62537554,\n",
       "       104.49308142, 102.54267053, 100.24731081, 101.14434523,\n",
       "       100.22410328, 103.24670199, 103.80366657, 105.16213267,\n",
       "       104.32622597, 107.72363871, 105.98027275, 105.19157876,\n",
       "       104.90419632, 107.24099068, 108.57545066, 105.821295  ,\n",
       "       104.56602106, 104.34997468, 105.83835754, 105.38219928,\n",
       "       105.81528259, 104.92467077, 104.22758684, 106.93808144,\n",
       "       105.72086987, 107.81771474, 104.38038384, 106.7068168 ,\n",
       "       104.36653223, 105.14667294, 107.48399097, 108.87903056,\n",
       "       112.04206129, 116.68728225, 117.3661617 , 118.01914657,\n",
       "       119.9716723 , 120.75038691, 122.83684325, 124.4172996 ,\n",
       "       125.68108137, 122.98019542, 120.77583086, 123.09929667,\n",
       "       124.33671341, 122.68212465, 123.6742368 , 124.02214978,\n",
       "       125.62363319, 126.71970992, 127.39136516, 124.67073772,\n",
       "       122.28303445, 123.26152513, 122.93801467, 123.68981997,\n",
       "       122.56117554, 124.47724743, 123.930031  , 123.67163564,\n",
       "       120.75574141, 121.72521964, 122.32641613, 119.75401007,\n",
       "       117.95292632, 119.63981269, 119.18665787, 120.57492223,\n",
       "       119.72706127, 122.04018273, 119.10195108, 120.35353796,\n",
       "       116.56705133, 116.72360889, 119.78422735, 123.76987274,\n",
       "       125.38488272, 125.49840874, 123.36194483, 122.79960032,\n",
       "       120.98529052, 119.40726481, 122.24865899, 122.59918164,\n",
       "       129.41888613, 130.6125825 , 133.08536772, 132.65917903,\n",
       "       132.27345028, 128.46151819, 128.73573276, 130.02062412,\n",
       "       131.10768495, 130.51265589, 129.81742839, 130.4224711 ,\n",
       "       129.35410452, 130.71276369, 129.91031216, 129.36240644,\n",
       "       131.22714372, 127.40187998, 127.99268149, 129.86189535,\n",
       "       132.62125128, 130.60599001, 128.68949646, 131.40461651,\n",
       "       135.83714764, 135.48080301, 137.51995091, 135.35288619,\n",
       "       135.5923419 , 134.54464541, 134.74758204, 136.3576571 ,\n",
       "       136.7522967 , 135.93600307, 135.85108526, 137.43332664,\n",
       "       137.24064498, 138.76005652, 137.63168624, 134.42704834,\n",
       "       131.00934336, 130.8952954 , 130.26413579, 128.18935808,\n",
       "       130.53667254, 132.68560911, 131.53856613, 133.86113319,\n",
       "       132.51781105, 134.90802996, 134.13099565, 137.46143822,\n",
       "       137.53080822, 138.59032789, 140.71483521, 138.93276652,\n",
       "       137.65333913, 139.28300058, 138.52704708, 138.82931517,\n",
       "       138.58325996, 135.96338702, 136.33524011, 138.80766154,\n",
       "       125.7692486 , 122.52844796, 121.06524625, 124.67542405,\n",
       "       123.39933835, 125.8150868 , 127.70015603, 129.18502773,\n",
       "       129.85253202, 131.06409697, 131.89168792, 130.9321304 ,\n",
       "       131.79207491, 132.06779162])"
      ]
     },
     "execution_count": 33,
     "metadata": {},
     "output_type": "execute_result"
    }
   ],
   "source": [
    "new_prediction"
   ]
  },
  {
   "cell_type": "markdown",
   "id": "1d7a32fb",
   "metadata": {},
   "source": [
    "### Plot graph for new prediction"
   ]
  },
  {
   "cell_type": "code",
   "execution_count": 34,
   "id": "141a2b44",
   "metadata": {},
   "outputs": [
    {
     "data": {
      "image/png": "[encoded data removed]",
      "text/plain": [
       "<Figure size 640x480 with 1 Axes>"
      ]
     },
     "metadata": {},
     "output_type": "display_data"
    }
   ],
   "source": [
    "sorted_indices = np.argsort(y_new.index)\n",
    "\n",
    "plt.plot(y_new.index[sorted_indices], y_new.values[sorted_indices], label='Actual Closing Price', color='orange', linewidth=2)\n",
    "plt.plot(y_new.index[sorted_indices], new_prediction[sorted_indices], label='Predicted Closing Price', color='green', linewidth=2)\n",
    "plt.xlabel(\"Date\")\n",
    "plt.ylabel(\"Closing Price\")\n",
    "plt.title(\"Actual vs. Predicted Closing Prices\")\n",
    "plt.legend()\n",
    "plt.show()"
   ]
  },
  {
   "cell_type": "markdown",
   "id": "20e1e4df",
   "metadata": {},
   "source": [
    "### Evaluate model using new predictions on new stock data"
   ]
  },
  {
   "cell_type": "code",
   "execution_count": 35,
   "id": "e75f2935",
   "metadata": {},
   "outputs": [
    {
     "name": "stdout",
     "output_type": "stream",
     "text": [
      "\n",
      "Model Evaluation:\n",
      "Mean Squared Error: 0.4899706644679005\n",
      "Root Mean Squared Error : 0.6999790457348709\n"
     ]
    }
   ],
   "source": [
    "new_mse = mean_squared_error(y_new, new_prediction)\n",
    "new_rmse = np.sqrt(new_mse)\n",
    "\n",
    "print(\"\\nModel Evaluation:\")\n",
    "print(f\"Mean Squared Error: {new_mse}\")\n",
    "print(f\"Root Mean Squared Error : {new_rmse}\")"
   ]
  },
  {
   "cell_type": "code",
   "execution_count": 39,
   "id": "6abe8207",
   "metadata": {},
   "outputs": [
    {
     "data": {
      "text/plain": [
       "['Stock3.joblib']"
      ]
     },
     "execution_count": 39,
     "metadata": {},
     "output_type": "execute_result"
    }
   ],
   "source": [
    "import joblib\n",
    "joblib.dump(model, 'Stock3.joblib')"
   ]
  },
  {
   "cell_type": "code",
   "execution_count": 42,
   "id": "05b8db5f",
   "metadata": {},
   "outputs": [],
   "source": [
    "load = joblib.load('Stock3.joblib')"
   ]
  },
  {
   "cell_type": "code",
   "execution_count": 43,
   "id": "18a1ee89",
   "metadata": {},
   "outputs": [],
   "source": [
    "X_new = pd.DataFrame({\n",
    "    'Open' : [98.260002],\n",
    "    'High' : [100.139999],\n",
    "    'Low' : [96.709999],\n",
    "    'Volume' : [41640800]\n",
    "})"
   ]
  },
  {
   "cell_type": "code",
   "execution_count": 44,
   "id": "bfca14e0",
   "metadata": {},
   "outputs": [
    {
     "data": {
      "text/plain": [
       "array([98.54886909])"
      ]
     },
     "execution_count": 44,
     "metadata": {},
     "output_type": "execute_result"
    }
   ],
   "source": [
    "load.predict(X_new)"
   ]
  },
  {
   "cell_type": "code",
   "execution_count": null,
   "id": "b75c22ec",
   "metadata": {},
   "outputs": [],
   "source": []
  }
 ],
 "metadata": {
  "kernelspec": {
   "display_name": "Python 3 (ipykernel)",
   "language": "python",
   "name": "python3"
  },
  "language_info": {
   "codemirror_mode": {
    "name": "ipython",
    "version": 3
   },
   "file_extension": ".py",
   "mimetype": "text/x-python",
   "name": "python",
   "nbconvert_exporter": "python",
   "pygments_lexer": "ipython3",
   "version": "3.11.5"
  }
 },
 "nbformat": 4,
 "nbformat_minor": 5
}
