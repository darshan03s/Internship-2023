{
 "cells": [
  {
   "cell_type": "code",
   "execution_count": 1,
   "id": "3756672e-602f-4b72-8e8b-7471b8c73862",
   "metadata": {},
   "outputs": [
    {
     "name": "stdout",
     "output_type": "stream",
     "text": [
      "21\n"
     ]
    }
   ],
   "source": [
    "# program to calc the length of the string \n",
    "stri = 'abcsnfk fskj fdbsaklv'\n",
    "print(len(stri))"
   ]
  },
  {
   "cell_type": "code",
   "execution_count": 2,
   "id": "52eea740-c845-4921-a67b-e945d0c66bf8",
   "metadata": {},
   "outputs": [
    {
     "name": "stdout",
     "output_type": "stream",
     "text": [
      "14\n"
     ]
    }
   ],
   "source": [
    "# program to count the no of chars in the string\n",
    "stri2 = 'abjsbfjs 1234 sfhvjb'\n",
    "count=0\n",
    "for i in stri2:\n",
    "    if(i.isalpha()):\n",
    "        count+=1\n",
    "print(count)"
   ]
  },
  {
   "cell_type": "code",
   "execution_count": 3,
   "id": "c0dcb1e2-6ace-4d43-98ca-b92064ab113c",
   "metadata": {},
   "outputs": [
    {
     "name": "stdin",
     "output_type": "stream",
     "text": [
      "Enter a string :  ssss\n"
     ]
    }
   ],
   "source": [
    "# program to get a string made of the first two and last two chars of a given string if the string length is less than 2, return the empty string\n",
    "a = input('Enter a string : ')\n",
    "if len(a)<2:\n",
    "    print('Empty String')"
   ]
  },
  {
   "cell_type": "code",
   "execution_count": null,
   "id": "a2a33dc2-0bd5-4f7e-8801-d9f61b1eaf6d",
   "metadata": {},
   "outputs": [],
   "source": [
    "file handling"
   ]
  },
  {
   "cell_type": "code",
   "execution_count": 4,
   "id": "4d8ed360-b1e7-48c6-a398-7cc2fd5babde",
   "metadata": {},
   "outputs": [
    {
     "name": "stdout",
     "output_type": "stream",
     "text": [
      "Hello World\n",
      "Hello Worldaaaaaaaaaaaaaaaaaaa\n"
     ]
    }
   ],
   "source": [
    "file = open('file.txt','w')\n",
    "file.write('Hello World')\n",
    "file.close()\n",
    "\n",
    "with open('file.txt','r') as file:\n",
    "    data = file.read()\n",
    "    print(data)\n",
    "    \n",
    "with open('file.txt','a') as file:\n",
    "    file.write('aaaaaaaaaaaaaaaaaaa')\n",
    "\n",
    "with open('file.txt','r') as file:\n",
    "    data = file.read()\n",
    "    print(data)"
   ]
  },
  {
   "cell_type": "code",
   "execution_count": null,
   "id": "000d0cd9-821f-4e20-bfde-c8f95efc037b",
   "metadata": {},
   "outputs": [],
   "source": [
    "error handling"
   ]
  },
  {
   "cell_type": "code",
   "execution_count": 6,
   "id": "453c7029-f4e3-4f58-ac30-87d1d946113a",
   "metadata": {},
   "outputs": [
    {
     "name": "stdout",
     "output_type": "stream",
     "text": [
      "Not found\n"
     ]
    }
   ],
   "source": [
    "try:\n",
    "    with open('abc.txt','r') as file:\n",
    "        content = file.read()\n",
    "    with open('output.txt','w') as ofile:\n",
    "        ofile.write(content)\n",
    "except FileNotFoundError:\n",
    "    print('Not found')\n",
    "except Exception as e:\n",
    "    print(e)"
   ]
  },
  {
   "cell_type": "code",
   "execution_count": null,
   "id": "0db15298-52dd-43c3-b62c-dc1b973ef6d8",
   "metadata": {},
   "outputs": [],
   "source": [
    "Modules"
   ]
  },
  {
   "cell_type": "code",
   "execution_count": 29,
   "id": "00889f05-285c-4d37-8973-efa27e797f87",
   "metadata": {
    "scrolled": true
   },
   "outputs": [
    {
     "ename": "AttributeError",
     "evalue": "module 'calc' has no attribute 'sum'",
     "output_type": "error",
     "traceback": [
      "\u001b[1;31m---------------------------------------------------------------------------\u001b[0m",
      "\u001b[1;31mAttributeError\u001b[0m                            Traceback (most recent call last)",
      "Cell \u001b[1;32mIn[29], line 2\u001b[0m\n\u001b[0;32m      1\u001b[0m \u001b[38;5;28;01mimport\u001b[39;00m \u001b[38;5;21;01mcalc\u001b[39;00m \u001b[38;5;28;01mas\u001b[39;00m \u001b[38;5;21;01mc\u001b[39;00m\n\u001b[1;32m----> 2\u001b[0m \u001b[43mc\u001b[49m\u001b[38;5;241;43m.\u001b[39;49m\u001b[43msum\u001b[49m()\n\u001b[0;32m      3\u001b[0m c\u001b[38;5;241m.\u001b[39mdiff()\n\u001b[0;32m      4\u001b[0m c\u001b[38;5;241m.\u001b[39mprod()\n",
      "\u001b[1;31mAttributeError\u001b[0m: module 'calc' has no attribute 'sum'"
     ]
    }
   ],
   "source": [
    "import calc as c\n",
    "c.sum()\n",
    "c.diff()\n",
    "c.prod()\n",
    "c.quo()\n",
    "c.mod()"
   ]
  },
  {
   "cell_type": "code",
   "execution_count": 374,
   "id": "a8ead37b-5683-4ba3-8f06-8d66296ce507",
   "metadata": {
    "editable": true,
    "slideshow": {
     "slide_type": ""
    },
    "tags": []
   },
   "outputs": [
    {
     "name": "stdout",
     "output_type": "stream",
     "text": [
      "Random element from list: 11\n",
      "Random element from set: 20\n",
      "Random key from dictionary: a\n",
      "Random file from the directory: file2.txt\n"
     ]
    }
   ],
   "source": [
    "# program to select a random element from a list, set, dict and file from a directory\n",
    "import random\n",
    "my_list = [1, 2, 3, 4, 5,6,7,8,9,11,12,13,14,15]\n",
    "listelem = random.choice(my_list)\n",
    "print(\"Random element from list:\", listelem)\n",
    "\n",
    "\n",
    "my_set = {10, 20, 30, 40, 50,60,77,88,99,33,44,55,11,22}\n",
    "setelem = random.choice(list(my_set))\n",
    "print(\"Random element from set:\", setelem)\n",
    "\n",
    "my_dict = {'a': 100, 'b': 200, 'c': 300, 'd':400, 'e':500}\n",
    "key = random.choice(list(my_dict.keys()))\n",
    "print(\"Random key from dictionary:\", key)\n",
    "\n",
    "file_names = [\"file1.txt\", \"file2.txt\", \"file3.txt\"]\n",
    "if file_names:\n",
    "    random_file = random.choice(file_names)\n",
    "    print(\"Random file from the directory:\", random_file)\n",
    "else:\n",
    "    print(\"No files found in the directory.\")"
   ]
  },
  {
   "cell_type": "code",
   "execution_count": 383,
   "id": "57e9bb94-62ad-4477-830d-bd93af6872a0",
   "metadata": {},
   "outputs": [
    {
     "name": "stdout",
     "output_type": "stream",
     "text": [
      "Random alphabetical character: I\n",
      "String with fixed Length 5\n",
      "suRlX\n",
      "String length between 3 and 9\n",
      "zJm"
     ]
    }
   ],
   "source": [
    "# program that generates random alphabetical chars, strings, strings of a fixed length\n",
    "import random\n",
    "alphabet = 'abcdefghijklmnopqrstuvwxyzABCDEFGHIJKLMNOPQRSTUVWXYZ'\n",
    "\n",
    "random_char = random.choice(alphabet)\n",
    "print(\"Random alphabetical character:\", random_char)\n",
    "\n",
    "print('String with fixed Length 5')\n",
    "for i in range(0,5):\n",
    "    print(random.choice(alphabet), end=\"\")\n",
    "\n",
    "maxLength = 3\n",
    "minLength = 9\n",
    "print('\\nString length between 3 and 9')\n",
    "for i in range(random.randint(maxLength,minLength)):\n",
    "    print(random.choice(alphabet), end=\"\")"
   ]
  },
  {
   "cell_type": "code",
   "execution_count": 410,
   "id": "fc692b71-c094-400e-9beb-e8dbc9dd17dd",
   "metadata": {},
   "outputs": [
    {
     "name": "stdout",
     "output_type": "stream",
     "text": [
      "0-6(exclusive)\n",
      "5\n",
      "5-9(exclusive)\n",
      "8\n",
      "0-10 with step of 3\n",
      "0\n"
     ]
    }
   ],
   "source": [
    "# program to generate a random integer between 0 and 6(exclusive)\n",
    "import random\n",
    "\n",
    "print('0-6(exclusive)')\n",
    "print(random.randint(0,5))\n",
    "\n",
    "# 5 and 10(exclusive)\n",
    "print('5-9(exclusive)')\n",
    "print(random.randint(5,8))\n",
    "\n",
    "# 0 and 10 with step of 3 \n",
    "print('0-10 with step of 3')\n",
    "a = []\n",
    "for i in range(0, 10, 3):\n",
    "    a.append(i)\n",
    "\n",
    "random_element = random.choice(a)\n",
    "print(random_element)"
   ]
  },
  {
   "cell_type": "code",
   "execution_count": 419,
   "id": "0cc4aa67-e9aa-41ea-8a05-34f3265b06f9",
   "metadata": {},
   "outputs": [
    {
     "name": "stdout",
     "output_type": "stream",
     "text": [
      "Random date between 2023-5-15 to 2023-12-31(y/m/d)\n",
      "2023-11-29\n"
     ]
    }
   ],
   "source": [
    "# random date between two dates\n",
    "import random\n",
    "month = random.randint(5,12)\n",
    "day = random.randint(15,31)\n",
    "year = 2023\n",
    "\n",
    "print('Random date between 2023-5-15 to 2023-12-31(y/m/d)')\n",
    "print(f\"{year}-{month}-{day}\")"
   ]
  },
  {
   "cell_type": "code",
   "execution_count": 423,
   "id": "fd157c32-e922-4eeb-bead-ebf1cc331a08",
   "metadata": {},
   "outputs": [
    {
     "name": "stdout",
     "output_type": "stream",
     "text": [
      "[1, 2, 3, 4, 5, 6, 7, 8, 9, 10]\n",
      "Shuffled list: [2, 8, 5, 1, 6, 9, 10, 7, 4, 3]\n"
     ]
    }
   ],
   "source": [
    "# program to shuffle the elements of a given list\n",
    "import random\n",
    "my_list = [1, 2, 3, 4, 5, 6, 7, 8, 9, 10] \n",
    "print(my_list)\n",
    "random.shuffle(my_list)\n",
    "print(\"Shuffled list:\", my_list)"
   ]
  }
 ],
 "metadata": {
  "kernelspec": {
   "display_name": "Python 3 (ipykernel)",
   "language": "python",
   "name": "python3"
  },
  "language_info": {
   "codemirror_mode": {
    "name": "ipython",
    "version": 3
   },
   "file_extension": ".py",
   "mimetype": "text/x-python",
   "name": "python",
   "nbconvert_exporter": "python",
   "pygments_lexer": "ipython3",
   "version": "3.11.4"
  }
 },
 "nbformat": 4,
 "nbformat_minor": 5
}
