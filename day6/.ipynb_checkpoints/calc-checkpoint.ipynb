{
 "cells": [
  {
   "cell_type": "code",
   "execution_count": null,
   "id": "0d54e980-e101-4211-9bdd-e591dde61b5f",
   "metadata": {},
   "outputs": [],
   "source": [
    "def sum():\n",
    "    print('Sum')\n",
    "    a = int(input(\"Enter first number : \"))\n",
    "    b = int(input(\"Enter second number : \"))\n",
    "    print(a+b)\n",
    "def diff():\n",
    "    print('Difference')\n",
    "    a = int(input(\"Enter first number : \"))\n",
    "    b = int(input(\"Enter second number : \"))\n",
    "    print(a-b)\n",
    "def prod():\n",
    "    print('Product')\n",
    "    a = int(input(\"Enter first number : \"))\n",
    "    b = int(input(\"Enter second number : \"))\n",
    "    print(a*b)\n",
    "def quo():\n",
    "    print('Quotient')\n",
    "    a = int(input(\"Enter first number : \"))\n",
    "    b = int(input(\"Enter second number : \"))\n",
    "    print(a/b)\n",
    "def mod():\n",
    "    print('Modulus')\n",
    "    a = int(input(\"Enter first number : \"))\n",
    "    b = int(input(\"Enter second number : \"))\n",
    "    print(a%b)\n",
    "    "
   ]
  }
 ],
 "metadata": {
  "kernelspec": {
   "display_name": "Python 3 (ipykernel)",
   "language": "python",
   "name": "python3"
  },
  "language_info": {
   "codemirror_mode": {
    "name": "ipython",
    "version": 3
   },
   "file_extension": ".py",
   "mimetype": "text/x-python",
   "name": "python",
   "nbconvert_exporter": "python",
   "pygments_lexer": "ipython3",
   "version": "3.11.4"
  }
 },
 "nbformat": 4,
 "nbformat_minor": 5
}
