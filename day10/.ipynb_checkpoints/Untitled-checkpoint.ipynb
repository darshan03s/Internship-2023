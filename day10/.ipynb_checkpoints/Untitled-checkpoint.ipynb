{
 "cells": [
  {
   "cell_type": "code",
   "execution_count": null,
   "id": "b9aed9f9",
   "metadata": {},
   "outputs": [],
   "source": [
    "# steps in buld ml model:\n",
    "1. import req packages\n",
    "2.Load dataset\n",
    "3.Identify group features and target attributes\n",
    "4.Visualize data to apply efficient algo\n",
    "5.Split dataset into training set and testing set\n",
    "6.load the model\n",
    "7.Train the model by providing training data\n",
    "8.Prediction based on test data\n",
    "9.score the model\n",
    "10.Determine error and accuracy"
   ]
  },
  {
   "cell_type": "code",
   "execution_count": null,
   "id": "68feb4af",
   "metadata": {},
   "outputs": [],
   "source": [
    "overfit, underfit, goodfit"
   ]
  },
  {
   "cell_type": "code",
   "execution_count": null,
   "id": "89ed2033",
   "metadata": {},
   "outputs": [],
   "source": [
    "target column,\n",
    "num and cont - regression\n",
    "not num and not cont - classification\n"
   ]
  },
  {
   "cell_type": "code",
   "execution_count": null,
   "id": "2e30db31",
   "metadata": {},
   "outputs": [],
   "source": [
    "linear regression\n",
    "regression\n",
    "multi linear regression\n",
    "formulas\n",
    "logistic regression"
   ]
  }
 ],
 "metadata": {
  "kernelspec": {
   "display_name": "Python 3 (ipykernel)",
   "language": "python",
   "name": "python3"
  },
  "language_info": {
   "codemirror_mode": {
    "name": "ipython",
    "version": 3
   },
   "file_extension": ".py",
   "mimetype": "text/x-python",
   "name": "python",
   "nbconvert_exporter": "python",
   "pygments_lexer": "ipython3",
   "version": "3.11.5"
  }
 },
 "nbformat": 4,
 "nbformat_minor": 5
}
