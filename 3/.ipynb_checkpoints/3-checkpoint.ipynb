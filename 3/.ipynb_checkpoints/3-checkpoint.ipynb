{
 "cells": [
  {
   "cell_type": "code",
   "execution_count": null,
   "id": "1d8d6d28",
   "metadata": {},
   "outputs": [],
   "source": [
    "operators,unary,binary(based on operands),based on operations > arithmstic,assignment,logical,relational/comparison,bitwise,identity,membership"
   ]
  },
  {
   "cell_type": "code",
   "execution_count": 5,
   "id": "3be4f209",
   "metadata": {},
   "outputs": [
    {
     "name": "stdout",
     "output_type": "stream",
     "text": [
      "5\n",
      "1\n",
      "4\n",
      "3.0\n",
      "243\n",
      "2\n",
      "20\n"
     ]
    }
   ],
   "source": [
    "print(2+3)\n",
    "print(3-2)\n",
    "print(2*2)\n",
    "print(6/2)\n",
    "print(3**5)\n",
    "print(29%3)\n",
    "print(226//11)"
   ]
  },
  {
   "cell_type": "code",
   "execution_count": 7,
   "id": "d8d29f2b",
   "metadata": {},
   "outputs": [],
   "source": [
    "a=5\n",
    "a+=5 #shorthand\n",
    "a=a+5\n",
    "a-=5\n",
    "a*=5"
   ]
  },
  {
   "cell_type": "code",
   "execution_count": 9,
   "id": "0d76c1ab",
   "metadata": {},
   "outputs": [
    {
     "name": "stdout",
     "output_type": "stream",
     "text": [
      "33\n"
     ]
    }
   ],
   "source": [
    "b=9\n",
    "a+=b\n",
    "print(a)"
   ]
  },
  {
   "cell_type": "code",
   "execution_count": 12,
   "id": "20137e60",
   "metadata": {},
   "outputs": [
    {
     "name": "stdout",
     "output_type": "stream",
     "text": [
      "False\n",
      "True\n",
      "False\n",
      "True\n"
     ]
    }
   ],
   "source": [
    "a=4\n",
    "b=5\n",
    "print(a==b)\n",
    "print(a!=b)\n",
    "print(a>=b)\n",
    "print(a<=b)"
   ]
  },
  {
   "cell_type": "code",
   "execution_count": 14,
   "id": "bcb90bac",
   "metadata": {},
   "outputs": [
    {
     "data": {
      "text/plain": [
       "False"
      ]
     },
     "execution_count": 14,
     "metadata": {},
     "output_type": "execute_result"
    }
   ],
   "source": [
    "#and or not\n",
    "a==b and a<=b"
   ]
  },
  {
   "cell_type": "code",
   "execution_count": 15,
   "id": "6161d529",
   "metadata": {},
   "outputs": [
    {
     "name": "stdout",
     "output_type": "stream",
     "text": [
      "y is greater than x\n"
     ]
    }
   ],
   "source": [
    "x = 10\n",
    "y = 20\n",
    "if (x>y and x>0):\n",
    "    print('x is greater than y')\n",
    "else:\n",
    "    print('y is greater than x')"
   ]
  },
  {
   "cell_type": "code",
   "execution_count": 25,
   "id": "dc955bf7",
   "metadata": {},
   "outputs": [
    {
     "name": "stdout",
     "output_type": "stream",
     "text": [
      "4\n",
      "7\n",
      "320\n",
      "2\n",
      "3\n"
     ]
    }
   ],
   "source": [
    "#Bitwise\n",
    "a=5 #0101\n",
    "b=6 #0110\n",
    "print(a&b)\n",
    "print(a|b)\n",
    "print(a<<b)\n",
    "print(a>>1)\n",
    "print(a^b)"
   ]
  },
  {
   "cell_type": "code",
   "execution_count": 27,
   "id": "1061a58a",
   "metadata": {},
   "outputs": [
    {
     "data": {
      "text/plain": [
       "True"
      ]
     },
     "execution_count": 27,
     "metadata": {},
     "output_type": "execute_result"
    }
   ],
   "source": [
    "a=6\n",
    "b=9\n",
    "a is b\n",
    "a is not b"
   ]
  },
  {
   "cell_type": "code",
   "execution_count": 38,
   "id": "22c35339",
   "metadata": {},
   "outputs": [
    {
     "data": {
      "text/plain": [
       "False"
      ]
     },
     "execution_count": 38,
     "metadata": {},
     "output_type": "execute_result"
    }
   ],
   "source": [
    "li = [2,3,4,5,6]\n",
    "9 in li"
   ]
  },
  {
   "cell_type": "code",
   "execution_count": null,
   "id": "5c2353e8",
   "metadata": {},
   "outputs": [],
   "source": [
    "Decision making statements/control"
   ]
  },
  {
   "cell_type": "code",
   "execution_count": 42,
   "id": "3cb98c82",
   "metadata": {},
   "outputs": [
    {
     "name": "stdout",
     "output_type": "stream",
     "text": [
      "a>b\n",
      "a is multiple of 3\n"
     ]
    }
   ],
   "source": [
    "a=9\n",
    "b=8\n",
    "if(a==b):\n",
    "    print('Equal')\n",
    "elif(a>b):\n",
    "    print('a>b')\n",
    "else:\n",
    "    print('a<b')\n",
    "if (a>b):\n",
    "    if(a%3==0):\n",
    "        print('a is multiple of 3')"
   ]
  },
  {
   "cell_type": "code",
   "execution_count": 46,
   "id": "e484ea60",
   "metadata": {},
   "outputs": [
    {
     "name": "stdout",
     "output_type": "stream",
     "text": [
      "abcefgijk"
     ]
    }
   ],
   "source": [
    "lis = ['abc','efg','ijk']\n",
    "for i in lis:\n",
    "    print(i, end=\"\")"
   ]
  },
  {
   "cell_type": "code",
   "execution_count": 48,
   "id": "e4976ff8",
   "metadata": {},
   "outputs": [
    {
     "name": "stdout",
     "output_type": "stream",
     "text": [
      "0\t2\t4\t6\t8\t10\t12\t14\t16\t18\t20\t"
     ]
    }
   ],
   "source": [
    "for i in range(0,21,2):\n",
    "    print(i,end=\"\\t\")"
   ]
  },
  {
   "cell_type": "code",
   "execution_count": 51,
   "id": "f5ef8b19",
   "metadata": {},
   "outputs": [
    {
     "name": "stdout",
     "output_type": "stream",
     "text": [
      "\n",
      "*\n",
      "**\n",
      "***\n",
      "****\n",
      "*****\n",
      "******\n",
      "*******\n",
      "********\n",
      "*********\n"
     ]
    }
   ],
   "source": [
    "for i in range(10):\n",
    "    print('*'*i)"
   ]
  },
  {
   "cell_type": "code",
   "execution_count": 53,
   "id": "944744bb",
   "metadata": {},
   "outputs": [
    {
     "name": "stdout",
     "output_type": "stream",
     "text": [
      "(0, 0)\n",
      "(0, 1)\n",
      "(0, 2)\n",
      "(1, 0)\n",
      "(1, 1)\n",
      "(1, 2)\n",
      "(2, 0)\n",
      "(2, 1)\n",
      "(2, 2)\n"
     ]
    }
   ],
   "source": [
    "for i in range(0,3):\n",
    "    for j in range(0,3):\n",
    "        print(f'{i,j}')"
   ]
  },
  {
   "cell_type": "code",
   "execution_count": null,
   "id": "2c8fd0d8",
   "metadata": {},
   "outputs": [],
   "source": [
    "*****\n",
    "**\n",
    "*****\n",
    "**\n",
    "**"
   ]
  },
  {
   "cell_type": "code",
   "execution_count": 54,
   "id": "70007895",
   "metadata": {},
   "outputs": [
    {
     "name": "stdout",
     "output_type": "stream",
     "text": [
      "*****\n",
      "**\n",
      "*****\n",
      "**\n",
      "**\n"
     ]
    }
   ],
   "source": [
    "for i in range(5):\n",
    "    if i==0 or i==2:\n",
    "        print('*'*5)\n",
    "    else:\n",
    "        print('*'*2)"
   ]
  },
  {
   "cell_type": "code",
   "execution_count": null,
   "id": "448d1a99",
   "metadata": {},
   "outputs": [],
   "source": [
    "**\n",
    "**\n",
    "**\n",
    "**\n",
    "********"
   ]
  },
  {
   "cell_type": "code",
   "execution_count": 55,
   "id": "37f5d06b",
   "metadata": {},
   "outputs": [
    {
     "name": "stdout",
     "output_type": "stream",
     "text": [
      "**\n",
      "**\n",
      "**\n",
      "**\n",
      "********\n"
     ]
    }
   ],
   "source": [
    "for i in range(5):\n",
    "    if i==4:\n",
    "        print('*'*8)\n",
    "    else:\n",
    "        print('*'*2)"
   ]
  },
  {
   "cell_type": "code",
   "execution_count": null,
   "id": "7c57a92f",
   "metadata": {},
   "outputs": [],
   "source": [
    "i=10\n",
    "while(i>0):\n",
    "    print(i)\n",
    "    if(i==3):\n",
    "#         break\n",
    "        continue\n",
    "    i-=1"
   ]
  },
  {
   "cell_type": "code",
   "execution_count": null,
   "id": "45b1adbc",
   "metadata": {},
   "outputs": [],
   "source": [
    "sec =7\n",
    "guess_limit = 3\n",
    "case1=>lost game\n",
    "case2=>won the game(1f,2f,3t)\n",
    "case3=>won the game(1f,2t)\n",
    "case4=>1t won the game"
   ]
  }
 ],
 "metadata": {
  "kernelspec": {
   "display_name": "Python 3 (ipykernel)",
   "language": "python",
   "name": "python3"
  },
  "language_info": {
   "codemirror_mode": {
    "name": "ipython",
    "version": 3
   },
   "file_extension": ".py",
   "mimetype": "text/x-python",
   "name": "python",
   "nbconvert_exporter": "python",
   "pygments_lexer": "ipython3",
   "version": "3.11.5"
  }
 },
 "nbformat": 4,
 "nbformat_minor": 5
}
